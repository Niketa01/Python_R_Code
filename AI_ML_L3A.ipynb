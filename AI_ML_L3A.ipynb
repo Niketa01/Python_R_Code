{
 "cells": [
  {
   "cell_type": "code",
   "execution_count": 1,
   "metadata": {},
   "outputs": [
    {
     "name": "stderr",
     "output_type": "stream",
     "text": [
      "Using TensorFlow backend.\n"
     ]
    }
   ],
   "source": [
    "#1 FULLY CONNECTED NEURAL NETWORK FOR CLASSIFICATION OF WHEAT SEED DATASET\n",
    "import pandas as pd\n",
    "import numpy as np\n",
    "from keras.models import Sequential\n",
    "from keras.layers import Dense\n",
    "from sklearn.model_selection import train_test_split\n",
    "from sklearn.preprocessing import StandardScaler\n",
    "from sklearn.metrics import confusion_matrix\n",
    "from sklearn.metrics import accuracy_score\n",
    "import math"
   ]
  },
  {
   "cell_type": "code",
   "execution_count": 2,
   "metadata": {},
   "outputs": [
    {
     "data": {
      "text/html": [
       "<div>\n",
       "<style scoped>\n",
       "    .dataframe tbody tr th:only-of-type {\n",
       "        vertical-align: middle;\n",
       "    }\n",
       "\n",
       "    .dataframe tbody tr th {\n",
       "        vertical-align: top;\n",
       "    }\n",
       "\n",
       "    .dataframe thead th {\n",
       "        text-align: right;\n",
       "    }\n",
       "</style>\n",
       "<table border=\"1\" class=\"dataframe\">\n",
       "  <thead>\n",
       "    <tr style=\"text-align: right;\">\n",
       "      <th></th>\n",
       "      <th>Area</th>\n",
       "      <th>Perimeter</th>\n",
       "      <th>Compactness</th>\n",
       "      <th>Length_Kernal</th>\n",
       "      <th>Width_Kernal</th>\n",
       "      <th>AsymmetryCoefficient</th>\n",
       "      <th>Length_KernalGroove</th>\n",
       "      <th>Category</th>\n",
       "    </tr>\n",
       "  </thead>\n",
       "  <tbody>\n",
       "    <tr>\n",
       "      <th>0</th>\n",
       "      <td>15.26</td>\n",
       "      <td>14.84</td>\n",
       "      <td>0.8710</td>\n",
       "      <td>5.763</td>\n",
       "      <td>3.312</td>\n",
       "      <td>2.221</td>\n",
       "      <td>5.220</td>\n",
       "      <td>1</td>\n",
       "    </tr>\n",
       "    <tr>\n",
       "      <th>1</th>\n",
       "      <td>14.88</td>\n",
       "      <td>14.57</td>\n",
       "      <td>0.8811</td>\n",
       "      <td>5.554</td>\n",
       "      <td>3.333</td>\n",
       "      <td>1.018</td>\n",
       "      <td>4.956</td>\n",
       "      <td>1</td>\n",
       "    </tr>\n",
       "    <tr>\n",
       "      <th>2</th>\n",
       "      <td>14.29</td>\n",
       "      <td>14.09</td>\n",
       "      <td>0.9050</td>\n",
       "      <td>5.291</td>\n",
       "      <td>3.337</td>\n",
       "      <td>2.699</td>\n",
       "      <td>4.825</td>\n",
       "      <td>1</td>\n",
       "    </tr>\n",
       "    <tr>\n",
       "      <th>3</th>\n",
       "      <td>13.84</td>\n",
       "      <td>13.94</td>\n",
       "      <td>0.8955</td>\n",
       "      <td>5.324</td>\n",
       "      <td>3.379</td>\n",
       "      <td>2.259</td>\n",
       "      <td>4.805</td>\n",
       "      <td>1</td>\n",
       "    </tr>\n",
       "    <tr>\n",
       "      <th>4</th>\n",
       "      <td>16.14</td>\n",
       "      <td>14.99</td>\n",
       "      <td>0.9034</td>\n",
       "      <td>5.658</td>\n",
       "      <td>3.562</td>\n",
       "      <td>1.355</td>\n",
       "      <td>5.175</td>\n",
       "      <td>1</td>\n",
       "    </tr>\n",
       "  </tbody>\n",
       "</table>\n",
       "</div>"
      ],
      "text/plain": [
       "    Area  Perimeter  Compactness  Length_Kernal  Width_Kernal  \\\n",
       "0  15.26      14.84       0.8710          5.763         3.312   \n",
       "1  14.88      14.57       0.8811          5.554         3.333   \n",
       "2  14.29      14.09       0.9050          5.291         3.337   \n",
       "3  13.84      13.94       0.8955          5.324         3.379   \n",
       "4  16.14      14.99       0.9034          5.658         3.562   \n",
       "\n",
       "   AsymmetryCoefficient  Length_KernalGroove  Category  \n",
       "0                 2.221                5.220         1  \n",
       "1                 1.018                4.956         1  \n",
       "2                 2.699                4.825         1  \n",
       "3                 2.259                4.805         1  \n",
       "4                 1.355                5.175         1  "
      ]
     },
     "execution_count": 2,
     "metadata": {},
     "output_type": "execute_result"
    }
   ],
   "source": [
    "df=pd.read_csv(r'C:\\Users\\Niketa Mittal\\Downloads\\seeds_dataset1.csv')\n",
    "df.head()"
   ]
  },
  {
   "cell_type": "code",
   "execution_count": 3,
   "metadata": {},
   "outputs": [],
   "source": [
    "X=df.iloc[:,0:7]\n",
    "Y=df.iloc[:,7]"
   ]
  },
  {
   "cell_type": "code",
   "execution_count": 4,
   "metadata": {},
   "outputs": [],
   "source": [
    "X_train,X_test,Y_train,Y_test=train_test_split(X,Y, test_size=0.2, random_state=0)\n",
    "sc=StandardScaler()\n",
    "X_train=sc.fit_transform(X_train)\n",
    "X_test=sc.transform(X_test)"
   ]
  },
  {
   "cell_type": "code",
   "execution_count": 5,
   "metadata": {
    "scrolled": true
   },
   "outputs": [
    {
     "name": "stdout",
     "output_type": "stream",
     "text": [
      "Epoch 1/50\n",
      "168/168 [==============================] - 1s 4ms/step - loss: 1.2406 - accuracy: 0.3214\n",
      "Epoch 2/50\n",
      "168/168 [==============================] - 0s 177us/step - loss: 1.0588 - accuracy: 0.3988\n",
      "Epoch 3/50\n",
      "168/168 [==============================] - 0s 126us/step - loss: 0.9098 - accuracy: 0.5595\n",
      "Epoch 4/50\n",
      "168/168 [==============================] - 0s 157us/step - loss: 0.7950 - accuracy: 0.6488\n",
      "Epoch 5/50\n",
      "168/168 [==============================] - 0s 175us/step - loss: 0.7058 - accuracy: 0.7024\n",
      "Epoch 6/50\n",
      "168/168 [==============================] - 0s 121us/step - loss: 0.6357 - accuracy: 0.7857\n",
      "Epoch 7/50\n",
      "168/168 [==============================] - 0s 171us/step - loss: 0.5793 - accuracy: 0.8571\n",
      "Epoch 8/50\n",
      "168/168 [==============================] - 0s 156us/step - loss: 0.5325 - accuracy: 0.8750\n",
      "Epoch 9/50\n",
      "168/168 [==============================] - 0s 128us/step - loss: 0.4909 - accuracy: 0.8810\n",
      "Epoch 10/50\n",
      "168/168 [==============================] - 0s 317us/step - loss: 0.4557 - accuracy: 0.8869\n",
      "Epoch 11/50\n",
      "168/168 [==============================] - 0s 137us/step - loss: 0.4253 - accuracy: 0.8869\n",
      "Epoch 12/50\n",
      "168/168 [==============================] - 0s 147us/step - loss: 0.3982 - accuracy: 0.8929\n",
      "Epoch 13/50\n",
      "168/168 [==============================] - 0s 103us/step - loss: 0.3734 - accuracy: 0.8988\n",
      "Epoch 14/50\n",
      "168/168 [==============================] - 0s 186us/step - loss: 0.3533 - accuracy: 0.9048\n",
      "Epoch 15/50\n",
      "168/168 [==============================] - 0s 207us/step - loss: 0.3341 - accuracy: 0.9048\n",
      "Epoch 16/50\n",
      "168/168 [==============================] - 0s 175us/step - loss: 0.3176 - accuracy: 0.9048\n",
      "Epoch 17/50\n",
      "168/168 [==============================] - 0s 186us/step - loss: 0.3035 - accuracy: 0.9048\n",
      "Epoch 18/50\n",
      "168/168 [==============================] - 0s 132us/step - loss: 0.2921 - accuracy: 0.9167\n",
      "Epoch 19/50\n",
      "168/168 [==============================] - 0s 166us/step - loss: 0.2803 - accuracy: 0.9107\n",
      "Epoch 20/50\n",
      "168/168 [==============================] - 0s 175us/step - loss: 0.2714 - accuracy: 0.9107\n",
      "Epoch 21/50\n",
      "168/168 [==============================] - 0s 174us/step - loss: 0.2621 - accuracy: 0.9107\n",
      "Epoch 22/50\n",
      "168/168 [==============================] - 0s 165us/step - loss: 0.2549 - accuracy: 0.9107\n",
      "Epoch 23/50\n",
      "168/168 [==============================] - 0s 213us/step - loss: 0.2475 - accuracy: 0.9107\n",
      "Epoch 24/50\n",
      "168/168 [==============================] - 0s 210us/step - loss: 0.2410 - accuracy: 0.9167\n",
      "Epoch 25/50\n",
      "168/168 [==============================] - ETA: 0s - loss: 0.1665 - accuracy: 1.00 - 0s 194us/step - loss: 0.2368 - accuracy: 0.9226\n",
      "Epoch 26/50\n",
      "168/168 [==============================] - 0s 212us/step - loss: 0.2301 - accuracy: 0.9226\n",
      "Epoch 27/50\n",
      "168/168 [==============================] - 0s 198us/step - loss: 0.2253 - accuracy: 0.9226\n",
      "Epoch 28/50\n",
      "168/168 [==============================] - 0s 178us/step - loss: 0.2207 - accuracy: 0.9286\n",
      "Epoch 29/50\n",
      "168/168 [==============================] - 0s 160us/step - loss: 0.2169 - accuracy: 0.9286\n",
      "Epoch 30/50\n",
      "168/168 [==============================] - 0s 149us/step - loss: 0.2105 - accuracy: 0.9345\n",
      "Epoch 31/50\n",
      "168/168 [==============================] - 0s 202us/step - loss: 0.2069 - accuracy: 0.9345\n",
      "Epoch 32/50\n",
      "168/168 [==============================] - 0s 206us/step - loss: 0.2033 - accuracy: 0.9345\n",
      "Epoch 33/50\n",
      "168/168 [==============================] - 0s 218us/step - loss: 0.2007 - accuracy: 0.9345\n",
      "Epoch 34/50\n",
      "168/168 [==============================] - 0s 205us/step - loss: 0.1961 - accuracy: 0.9345\n",
      "Epoch 35/50\n",
      "168/168 [==============================] - 0s 185us/step - loss: 0.1928 - accuracy: 0.9345\n",
      "Epoch 36/50\n",
      "168/168 [==============================] - 0s 178us/step - loss: 0.1895 - accuracy: 0.9345\n",
      "Epoch 37/50\n",
      "168/168 [==============================] - 0s 135us/step - loss: 0.1862 - accuracy: 0.9345\n",
      "Epoch 38/50\n",
      "168/168 [==============================] - 0s 202us/step - loss: 0.1842 - accuracy: 0.9345\n",
      "Epoch 39/50\n",
      "168/168 [==============================] - 0s 416us/step - loss: 0.1798 - accuracy: 0.9345\n",
      "Epoch 40/50\n",
      "168/168 [==============================] - 0s 195us/step - loss: 0.1768 - accuracy: 0.9345\n",
      "Epoch 41/50\n",
      "168/168 [==============================] - 0s 187us/step - loss: 0.1757 - accuracy: 0.9345\n",
      "Epoch 42/50\n",
      "168/168 [==============================] - 0s 189us/step - loss: 0.1730 - accuracy: 0.9345\n",
      "Epoch 43/50\n",
      "168/168 [==============================] - 0s 219us/step - loss: 0.1705 - accuracy: 0.9286\n",
      "Epoch 44/50\n",
      "168/168 [==============================] - 0s 148us/step - loss: 0.1671 - accuracy: 0.9286\n",
      "Epoch 45/50\n",
      "168/168 [==============================] - 0s 167us/step - loss: 0.1657 - accuracy: 0.9345\n",
      "Epoch 46/50\n",
      "168/168 [==============================] - 0s 211us/step - loss: 0.1627 - accuracy: 0.9286\n",
      "Epoch 47/50\n",
      "168/168 [==============================] - 0s 207us/step - loss: 0.1608 - accuracy: 0.9286\n",
      "Epoch 48/50\n",
      "168/168 [==============================] - 0s 193us/step - loss: 0.1598 - accuracy: 0.9286\n",
      "Epoch 49/50\n",
      "168/168 [==============================] - 0s 197us/step - loss: 0.1598 - accuracy: 0.9286\n",
      "Epoch 50/50\n",
      "168/168 [==============================] - 0s 209us/step - loss: 0.1573 - accuracy: 0.9286\n"
     ]
    }
   ],
   "source": [
    "from keras.utils import to_categorical\n",
    "y_binary = to_categorical(Y_train)\n",
    "model=Sequential()\n",
    "model.add(Dense(12,input_dim=7,activation='relu'))\n",
    "model.add(Dense(10,activation='relu'))\n",
    "model.add(Dense(4,activation='softmax'))\n",
    "model.compile(optimizer='adam',loss='categorical_crossentropy',metrics=['accuracy'])\n",
    "model.fit(X_train,y_binary,epochs=50,batch_size=10)\n",
    "y_pred=model.predict(X_test)"
   ]
  },
  {
   "cell_type": "code",
   "execution_count": 6,
   "metadata": {},
   "outputs": [
    {
     "data": {
      "text/plain": [
       "array([1, 2, 1, 1, 3, 2, 2, 2, 2, 3, 1, 3, 1, 3, 2, 2, 3, 1, 1, 1, 3, 1,\n",
       "       1, 1, 2, 2, 2, 1, 3, 3, 2, 3, 2, 2, 3, 3, 3, 2, 1, 1, 3, 1],\n",
       "      dtype=int64)"
      ]
     },
     "execution_count": 6,
     "metadata": {},
     "output_type": "execute_result"
    }
   ],
   "source": [
    "y_pred = np.argmax(y_pred, axis=1)\n",
    "y_pred"
   ]
  },
  {
   "cell_type": "code",
   "execution_count": 7,
   "metadata": {},
   "outputs": [
    {
     "name": "stdout",
     "output_type": "stream",
     "text": [
      "[1. 2. 1. 1. 3. 2. 2. 2. 2. 3. 1. 3. 1. 3. 2. 2. 3. 1. 1. 1. 3. 1. 1. 1.\n",
      " 2. 2. 2. 1. 3. 3. 2. 3. 2. 2. 3. 3. 3. 2. 1. 1. 3. 1.]\n"
     ]
    }
   ],
   "source": [
    "print(np.floor(y_pred))\n",
    "y_pred=np.floor(y_pred)"
   ]
  },
  {
   "cell_type": "code",
   "execution_count": 8,
   "metadata": {},
   "outputs": [
    {
     "data": {
      "text/plain": [
       "array([[13,  0,  0],\n",
       "       [ 2, 14,  0],\n",
       "       [ 0,  0, 13]], dtype=int64)"
      ]
     },
     "execution_count": 8,
     "metadata": {},
     "output_type": "execute_result"
    }
   ],
   "source": [
    "cm=confusion_matrix(Y_test,y_pred)\n",
    "cm"
   ]
  },
  {
   "cell_type": "code",
   "execution_count": 9,
   "metadata": {},
   "outputs": [
    {
     "data": {
      "text/plain": [
       "0.9523809523809523"
      ]
     },
     "execution_count": 9,
     "metadata": {},
     "output_type": "execute_result"
    }
   ],
   "source": [
    "ac=accuracy_score(Y_test,y_pred)\n",
    "ac"
   ]
  },
  {
   "cell_type": "code",
   "execution_count": 10,
   "metadata": {},
   "outputs": [
    {
     "data": {
      "text/plain": [
       "0.9524943310657596"
      ]
     },
     "execution_count": 10,
     "metadata": {},
     "output_type": "execute_result"
    }
   ],
   "source": [
    "from sklearn.metrics import f1_score\n",
    "f1_score(Y_test,y_pred,average='weighted')"
   ]
  },
  {
   "cell_type": "code",
   "execution_count": 11,
   "metadata": {},
   "outputs": [],
   "source": [
    "#2 CNN ON CIFAR-10 DATASET\n",
    "import pickle\n",
    "from sklearn.preprocessing import normalize\n",
    "from sklearn.preprocessing import OneHotEncoder\n",
    "from keras.utils import np_utils"
   ]
  },
  {
   "cell_type": "code",
   "execution_count": 12,
   "metadata": {},
   "outputs": [],
   "source": [
    "def load_data(path,i):\n",
    "    with open(path+'\\data_batch_'+str(i), 'rb') as file:\n",
    "        batch=pickle.load(file, encoding='bytes')\n",
    "        label_key=list(batch.keys())[1]\n",
    "        data_key=list(batch.keys())[2]\n",
    "        features=batch[data_key].reshape((batch[data_key].shape[0]),3,32,32).transpose(0,2,3,1)\n",
    "        labels=batch[label_key]\n",
    "    return features,labels"
   ]
  },
  {
   "cell_type": "code",
   "execution_count": 13,
   "metadata": {},
   "outputs": [],
   "source": [
    "def load_test(path):\n",
    "    with open(path+'\\\\test_batch', 'rb') as file:\n",
    "        batch=pickle.load(file, encoding='bytes')\n",
    "        label_key=list(batch.keys())[1]\n",
    "        data_key=list(batch.keys())[2]\n",
    "        features=batch[data_key].reshape((len(batch[data_key]),3,32,32)).transpose(0,2,3,1)\n",
    "        labels=batch[label_key]\n",
    "    return features,labels"
   ]
  },
  {
   "cell_type": "code",
   "execution_count": 14,
   "metadata": {},
   "outputs": [],
   "source": [
    "def normal(x):\n",
    "    min_val=np.min(x)\n",
    "    max_val=np.max(x)\n",
    "    x=(x-min_val)/(max_val-min_val)\n",
    "    return x"
   ]
  },
  {
   "cell_type": "code",
   "execution_count": 15,
   "metadata": {},
   "outputs": [
    {
     "name": "stdout",
     "output_type": "stream",
     "text": [
      "(10000, 32, 32, 3)\n",
      "(20000, 32, 32, 3)\n",
      "(30000, 32, 32, 3)\n",
      "(40000, 32, 32, 3)\n",
      "(50000, 32, 32, 3)\n"
     ]
    }
   ],
   "source": [
    "batches=5\n",
    "path=r'C:\\Users\\Niketa Mittal\\Downloads\\CIFAR'\n",
    "valid_features=[]\n",
    "valid_labels=[]\n",
    "for i in range(1,6):\n",
    "    features,labels=load_data(path,i)\n",
    "    index=int(len(features))\n",
    "    features=normal(features[0:index])\n",
    "    labels=np_utils.to_categorical(labels)\n",
    "    pickle.dump((features,labels),open(path+'\\pre_batch_'+str(i)+'.p','wb'))\n",
    "    valid_features.extend(features[-index:])\n",
    "    valid_labels.extend(labels[-index:])\n",
    "    print(np.shape(valid_features))"
   ]
  },
  {
   "cell_type": "code",
   "execution_count": 16,
   "metadata": {},
   "outputs": [
    {
     "name": "stdout",
     "output_type": "stream",
     "text": [
      "(50000, 32, 32, 3)\n",
      "(50000, 10)\n"
     ]
    }
   ],
   "source": [
    "valid_features=normal(np.array(valid_features))\n",
    "valid_labels=np.array(valid_labels)\n",
    "print(valid_features.shape)\n",
    "print(valid_labels.shape)"
   ]
  },
  {
   "cell_type": "code",
   "execution_count": 17,
   "metadata": {},
   "outputs": [
    {
     "name": "stdout",
     "output_type": "stream",
     "text": [
      "(10000, 32, 32, 3)\n",
      "(10000, 10)\n"
     ]
    }
   ],
   "source": [
    "features_test=[]\n",
    "labels_test=[]\n",
    "features,labels=load_test(path)\n",
    "index=int(len(features))\n",
    "features=normal(features[0:index])\n",
    "labels=np_utils.to_categorical(labels)\n",
    "features_test.extend(features[-index:])\n",
    "labels_test.extend(labels[-index:])\n",
    "features_test=normal(np.array(features_test))\n",
    "labels_test=np.array(labels_test)\n",
    "labels_test\n",
    "print(features_test.shape)\n",
    "print(labels_test.shape)"
   ]
  },
  {
   "cell_type": "code",
   "execution_count": 18,
   "metadata": {},
   "outputs": [],
   "source": [
    "from keras.layers import Dropout\n",
    "from keras.layers import Flatten\n",
    "from keras.layers.convolutional import Conv2D\n",
    "from keras.layers.convolutional import MaxPooling2D"
   ]
  },
  {
   "cell_type": "code",
   "execution_count": 19,
   "metadata": {},
   "outputs": [
    {
     "name": "stdout",
     "output_type": "stream",
     "text": [
      "10\n"
     ]
    }
   ],
   "source": [
    "n=valid_labels.shape[1]\n",
    "print(n)\n",
    "def base_model():\n",
    "    model=Sequential()\n",
    "    model.add(Conv2D(32,(3,3),padding='same',input_shape=valid_features.shape[1:],activation='relu'))\n",
    "    model.add(Conv2D(32,(3,3),activation='relu'))\n",
    "    model.add(MaxPooling2D(pool_size=(2,2)))\n",
    "    model.add(Dropout(0.25))\n",
    "    \n",
    "    model.add(Conv2D(64,(3,3),padding='same',activation='relu'))\n",
    "    model.add(Conv2D(64,(3,3),padding='same',activation='relu'))\n",
    "    model.add(MaxPooling2D(pool_size=(2,2)))\n",
    "    model.add(Dropout(0.25))\n",
    "    \n",
    "    model.add(Flatten())\n",
    "    model.add(Dense(512,activation='relu'))\n",
    "    model.add(Dropout(0.5))\n",
    "    model.add(Dense(n,activation='softmax'))\n",
    "    \n",
    "    model.compile(loss='categorical_crossentropy', optimizer='adam',metrics=['accuracy'])\n",
    "    print(model.summary())\n",
    "    return model"
   ]
  },
  {
   "cell_type": "code",
   "execution_count": 20,
   "metadata": {},
   "outputs": [
    {
     "name": "stdout",
     "output_type": "stream",
     "text": [
      "Model: \"sequential_2\"\n",
      "_________________________________________________________________\n",
      "Layer (type)                 Output Shape              Param #   \n",
      "=================================================================\n",
      "conv2d_1 (Conv2D)            (None, 32, 32, 32)        896       \n",
      "_________________________________________________________________\n",
      "conv2d_2 (Conv2D)            (None, 30, 30, 32)        9248      \n",
      "_________________________________________________________________\n",
      "max_pooling2d_1 (MaxPooling2 (None, 15, 15, 32)        0         \n",
      "_________________________________________________________________\n",
      "dropout_1 (Dropout)          (None, 15, 15, 32)        0         \n",
      "_________________________________________________________________\n",
      "conv2d_3 (Conv2D)            (None, 15, 15, 64)        18496     \n",
      "_________________________________________________________________\n",
      "conv2d_4 (Conv2D)            (None, 15, 15, 64)        36928     \n",
      "_________________________________________________________________\n",
      "max_pooling2d_2 (MaxPooling2 (None, 7, 7, 64)          0         \n",
      "_________________________________________________________________\n",
      "dropout_2 (Dropout)          (None, 7, 7, 64)          0         \n",
      "_________________________________________________________________\n",
      "flatten_1 (Flatten)          (None, 3136)              0         \n",
      "_________________________________________________________________\n",
      "dense_4 (Dense)              (None, 512)               1606144   \n",
      "_________________________________________________________________\n",
      "dropout_3 (Dropout)          (None, 512)               0         \n",
      "_________________________________________________________________\n",
      "dense_5 (Dense)              (None, 10)                5130      \n",
      "=================================================================\n",
      "Total params: 1,676,842\n",
      "Trainable params: 1,676,842\n",
      "Non-trainable params: 0\n",
      "_________________________________________________________________\n",
      "None\n"
     ]
    }
   ],
   "source": [
    "model=base_model()"
   ]
  },
  {
   "cell_type": "code",
   "execution_count": 21,
   "metadata": {},
   "outputs": [
    {
     "name": "stdout",
     "output_type": "stream",
     "text": [
      "Epoch 1/10\n",
      "50000/50000 [==============================] - 230s 5ms/step - loss: 1.8029 - accuracy: 0.3391\n",
      "Epoch 2/10\n",
      "50000/50000 [==============================] - 225s 5ms/step - loss: 1.4017 - accuracy: 0.4930\n",
      "Epoch 3/10\n",
      "50000/50000 [==============================] - 226s 5ms/step - loss: 1.2348 - accuracy: 0.5593\n",
      "Epoch 4/10\n",
      "50000/50000 [==============================] - 209s 4ms/step - loss: 1.1079 - accuracy: 0.6091\n",
      "Epoch 5/10\n",
      "50000/50000 [==============================] - 195s 4ms/step - loss: 1.0015 - accuracy: 0.6478\n",
      "Epoch 6/10\n",
      "50000/50000 [==============================] - 193s 4ms/step - loss: 0.9302 - accuracy: 0.6733\n",
      "Epoch 7/10\n",
      "50000/50000 [==============================] - 192s 4ms/step - loss: 0.8756 - accuracy: 0.6940\n",
      "Epoch 8/10\n",
      "50000/50000 [==============================] - 192s 4ms/step - loss: 0.8175 - accuracy: 0.7124\n",
      "Epoch 9/10\n",
      "50000/50000 [==============================] - 192s 4ms/step - loss: 0.7734 - accuracy: 0.7289\n",
      "Epoch 10/10\n",
      "50000/50000 [==============================] - 196s 4ms/step - loss: 0.7334 - accuracy: 0.7423\n"
     ]
    },
    {
     "data": {
      "text/plain": [
       "<keras.callbacks.callbacks.History at 0x2e080116e08>"
      ]
     },
     "execution_count": 21,
     "metadata": {},
     "output_type": "execute_result"
    }
   ],
   "source": [
    "model.fit(valid_features,valid_labels,epochs=10,batch_size=500)"
   ]
  },
  {
   "cell_type": "code",
   "execution_count": 22,
   "metadata": {},
   "outputs": [],
   "source": [
    "labels_pred=model.predict(features_test)"
   ]
  },
  {
   "cell_type": "code",
   "execution_count": 23,
   "metadata": {},
   "outputs": [
    {
     "data": {
      "text/plain": [
       "(10000, 10)"
      ]
     },
     "execution_count": 23,
     "metadata": {},
     "output_type": "execute_result"
    }
   ],
   "source": [
    "labels_pred.shape"
   ]
  },
  {
   "cell_type": "code",
   "execution_count": 24,
   "metadata": {},
   "outputs": [
    {
     "data": {
      "text/plain": [
       "0.6154494705294976"
      ]
     },
     "execution_count": 24,
     "metadata": {},
     "output_type": "execute_result"
    }
   ],
   "source": [
    "from sklearn.metrics import r2_score\n",
    "rscore=r2_score(labels_test,labels_pred)\n",
    "rscore"
   ]
  },
  {
   "cell_type": "code",
   "execution_count": 25,
   "metadata": {},
   "outputs": [],
   "source": [
    "#3RNN FOR IMAGE TITLE GENERATION\n"
   ]
  },
  {
   "cell_type": "code",
   "execution_count": 26,
   "metadata": {},
   "outputs": [],
   "source": [
    "#4 RNN FOR SENTIMENT ANALYSIS\n",
    "import re\n",
    "import nltk\n",
    "from nltk.corpus import stopwords\n",
    "from keras.preprocessing.text import one_hot, Tokenizer\n",
    "from keras.preprocessing.sequence import pad_sequences\n",
    "from keras.models import Sequential\n",
    "from keras.layers.core import Activation, Dropout, Dense\n",
    "from keras.layers import Flatten, GlobalMaxPooling2D,LSTM\n",
    "from keras.layers.embeddings import Embedding\n",
    "from sklearn.model_selection import train_test_split\n",
    "from sklearn.preprocessing import LabelEncoder"
   ]
  },
  {
   "cell_type": "code",
   "execution_count": 27,
   "metadata": {},
   "outputs": [
    {
     "data": {
      "text/html": [
       "<div>\n",
       "<style scoped>\n",
       "    .dataframe tbody tr th:only-of-type {\n",
       "        vertical-align: middle;\n",
       "    }\n",
       "\n",
       "    .dataframe tbody tr th {\n",
       "        vertical-align: top;\n",
       "    }\n",
       "\n",
       "    .dataframe thead th {\n",
       "        text-align: right;\n",
       "    }\n",
       "</style>\n",
       "<table border=\"1\" class=\"dataframe\">\n",
       "  <thead>\n",
       "    <tr style=\"text-align: right;\">\n",
       "      <th></th>\n",
       "      <th>review</th>\n",
       "      <th>sentiment</th>\n",
       "    </tr>\n",
       "  </thead>\n",
       "  <tbody>\n",
       "    <tr>\n",
       "      <th>0</th>\n",
       "      <td>One of the other reviewers has mentioned that ...</td>\n",
       "      <td>positive</td>\n",
       "    </tr>\n",
       "    <tr>\n",
       "      <th>1</th>\n",
       "      <td>A wonderful little production. &lt;br /&gt;&lt;br /&gt;The...</td>\n",
       "      <td>positive</td>\n",
       "    </tr>\n",
       "    <tr>\n",
       "      <th>2</th>\n",
       "      <td>I thought this was a wonderful way to spend ti...</td>\n",
       "      <td>positive</td>\n",
       "    </tr>\n",
       "    <tr>\n",
       "      <th>3</th>\n",
       "      <td>Basically there's a family where a little boy ...</td>\n",
       "      <td>negative</td>\n",
       "    </tr>\n",
       "    <tr>\n",
       "      <th>4</th>\n",
       "      <td>Petter Mattei's \"Love in the Time of Money\" is...</td>\n",
       "      <td>positive</td>\n",
       "    </tr>\n",
       "  </tbody>\n",
       "</table>\n",
       "</div>"
      ],
      "text/plain": [
       "                                              review sentiment\n",
       "0  One of the other reviewers has mentioned that ...  positive\n",
       "1  A wonderful little production. <br /><br />The...  positive\n",
       "2  I thought this was a wonderful way to spend ti...  positive\n",
       "3  Basically there's a family where a little boy ...  negative\n",
       "4  Petter Mattei's \"Love in the Time of Money\" is...  positive"
      ]
     },
     "execution_count": 27,
     "metadata": {},
     "output_type": "execute_result"
    }
   ],
   "source": [
    "df=pd.read_csv(r'C:\\Users\\Niketa Mittal\\Downloads\\IMDB Dataset.csv')\n",
    "df.head()"
   ]
  },
  {
   "cell_type": "code",
   "execution_count": 28,
   "metadata": {},
   "outputs": [
    {
     "data": {
      "text/html": [
       "<div>\n",
       "<style scoped>\n",
       "    .dataframe tbody tr th:only-of-type {\n",
       "        vertical-align: middle;\n",
       "    }\n",
       "\n",
       "    .dataframe tbody tr th {\n",
       "        vertical-align: top;\n",
       "    }\n",
       "\n",
       "    .dataframe thead th {\n",
       "        text-align: right;\n",
       "    }\n",
       "</style>\n",
       "<table border=\"1\" class=\"dataframe\">\n",
       "  <thead>\n",
       "    <tr style=\"text-align: right;\">\n",
       "      <th></th>\n",
       "      <th>review</th>\n",
       "      <th>sentiment</th>\n",
       "    </tr>\n",
       "  </thead>\n",
       "  <tbody>\n",
       "    <tr>\n",
       "      <th>0</th>\n",
       "      <td>One of the other reviewers has mentioned that ...</td>\n",
       "      <td>1</td>\n",
       "    </tr>\n",
       "    <tr>\n",
       "      <th>1</th>\n",
       "      <td>A wonderful little production. &lt;br /&gt;&lt;br /&gt;The...</td>\n",
       "      <td>1</td>\n",
       "    </tr>\n",
       "    <tr>\n",
       "      <th>2</th>\n",
       "      <td>I thought this was a wonderful way to spend ti...</td>\n",
       "      <td>1</td>\n",
       "    </tr>\n",
       "    <tr>\n",
       "      <th>3</th>\n",
       "      <td>Basically there's a family where a little boy ...</td>\n",
       "      <td>0</td>\n",
       "    </tr>\n",
       "    <tr>\n",
       "      <th>4</th>\n",
       "      <td>Petter Mattei's \"Love in the Time of Money\" is...</td>\n",
       "      <td>1</td>\n",
       "    </tr>\n",
       "  </tbody>\n",
       "</table>\n",
       "</div>"
      ],
      "text/plain": [
       "                                              review  sentiment\n",
       "0  One of the other reviewers has mentioned that ...          1\n",
       "1  A wonderful little production. <br /><br />The...          1\n",
       "2  I thought this was a wonderful way to spend ti...          1\n",
       "3  Basically there's a family where a little boy ...          0\n",
       "4  Petter Mattei's \"Love in the Time of Money\" is...          1"
      ]
     },
     "execution_count": 28,
     "metadata": {},
     "output_type": "execute_result"
    }
   ],
   "source": [
    "le=LabelEncoder()\n",
    "df[\"sentiment\"]=le.fit_transform(df[\"sentiment\"])\n",
    "df.head()"
   ]
  },
  {
   "cell_type": "code",
   "execution_count": 29,
   "metadata": {},
   "outputs": [
    {
     "name": "stderr",
     "output_type": "stream",
     "text": [
      "C:\\Users\\Niketa Mittal\\Anaconda3\\lib\\site-packages\\ipykernel_launcher.py:3: SettingWithCopyWarning: \n",
      "A value is trying to be set on a copy of a slice from a DataFrame\n",
      "\n",
      "See the caveats in the documentation: https://pandas.pydata.org/pandas-docs/stable/user_guide/indexing.html#returning-a-view-versus-a-copy\n",
      "  This is separate from the ipykernel package so we can avoid doing imports until\n",
      "C:\\Users\\Niketa Mittal\\Anaconda3\\lib\\site-packages\\ipykernel_launcher.py:4: SettingWithCopyWarning: \n",
      "A value is trying to be set on a copy of a slice from a DataFrame\n",
      "\n",
      "See the caveats in the documentation: https://pandas.pydata.org/pandas-docs/stable/user_guide/indexing.html#returning-a-view-versus-a-copy\n",
      "  after removing the cwd from sys.path.\n",
      "C:\\Users\\Niketa Mittal\\Anaconda3\\lib\\site-packages\\ipykernel_launcher.py:5: SettingWithCopyWarning: \n",
      "A value is trying to be set on a copy of a slice from a DataFrame\n",
      "\n",
      "See the caveats in the documentation: https://pandas.pydata.org/pandas-docs/stable/user_guide/indexing.html#returning-a-view-versus-a-copy\n",
      "  \"\"\"\n",
      "C:\\Users\\Niketa Mittal\\Anaconda3\\lib\\site-packages\\ipykernel_launcher.py:6: SettingWithCopyWarning: \n",
      "A value is trying to be set on a copy of a slice from a DataFrame\n",
      "\n",
      "See the caveats in the documentation: https://pandas.pydata.org/pandas-docs/stable/user_guide/indexing.html#returning-a-view-versus-a-copy\n",
      "  \n"
     ]
    },
    {
     "data": {
      "text/html": [
       "<div>\n",
       "<style scoped>\n",
       "    .dataframe tbody tr th:only-of-type {\n",
       "        vertical-align: middle;\n",
       "    }\n",
       "\n",
       "    .dataframe tbody tr th {\n",
       "        vertical-align: top;\n",
       "    }\n",
       "\n",
       "    .dataframe thead th {\n",
       "        text-align: right;\n",
       "    }\n",
       "</style>\n",
       "<table border=\"1\" class=\"dataframe\">\n",
       "  <thead>\n",
       "    <tr style=\"text-align: right;\">\n",
       "      <th></th>\n",
       "      <th>review</th>\n",
       "      <th>sentiment</th>\n",
       "    </tr>\n",
       "  </thead>\n",
       "  <tbody>\n",
       "    <tr>\n",
       "      <th>0</th>\n",
       "      <td>One of the other reviewers has mentioned that ...</td>\n",
       "      <td>1</td>\n",
       "    </tr>\n",
       "    <tr>\n",
       "      <th>1</th>\n",
       "      <td>A wonderful little production The filming tech...</td>\n",
       "      <td>1</td>\n",
       "    </tr>\n",
       "    <tr>\n",
       "      <th>2</th>\n",
       "      <td>I thought this was wonderful way to spend time...</td>\n",
       "      <td>1</td>\n",
       "    </tr>\n",
       "    <tr>\n",
       "      <th>3</th>\n",
       "      <td>Basically there a family where little boy Jake...</td>\n",
       "      <td>0</td>\n",
       "    </tr>\n",
       "    <tr>\n",
       "      <th>4</th>\n",
       "      <td>Petter Mattei Love in the Time of Money is vis...</td>\n",
       "      <td>1</td>\n",
       "    </tr>\n",
       "  </tbody>\n",
       "</table>\n",
       "</div>"
      ],
      "text/plain": [
       "                                              review  sentiment\n",
       "0  One of the other reviewers has mentioned that ...          1\n",
       "1  A wonderful little production The filming tech...          1\n",
       "2  I thought this was wonderful way to spend time...          1\n",
       "3  Basically there a family where little boy Jake...          0\n",
       "4  Petter Mattei Love in the Time of Money is vis...          1"
      ]
     },
     "execution_count": 29,
     "metadata": {},
     "output_type": "execute_result"
    }
   ],
   "source": [
    "re_comp=re.compile(r'<[^>]+>')\n",
    "for i in range(0,df.shape[0]):\n",
    "    df[\"review\"][i]=re_comp.sub('',df[\"review\"][i])\n",
    "    df[\"review\"][i]=re.sub('[^a-zA-Z]',' ',df[\"review\"][i])\n",
    "    df[\"review\"][i]=re.sub(r\"\\s+[a-zA-Z]\\s+\",' ',df[\"review\"][i])\n",
    "    df[\"review\"][i]=re.sub(r'\\s+',' ',df[\"review\"][i])\n",
    "df.head()"
   ]
  },
  {
   "cell_type": "code",
   "execution_count": 30,
   "metadata": {},
   "outputs": [
    {
     "data": {
      "text/plain": [
       "'This short film that inspired the soon to be full length feature Spatula Madness is hilarious piece that contends against similar cartoons yielding multiple writers The short film stars Edward the Spatula who after being fired from his job joins in the fight against the evil spoons This premise allows for some funny content near the beginning but is barely present for the remainder of the feature This film minute running time is absorbed by some odd ball comedy and small musical number Unfortunately not much else lies below it The plot that is set up doesn really have time to show But it surely follows it plot better than many high budget Hollywood films This film is worth watching at least few times Take it for what it is and don expect deep story '"
      ]
     },
     "execution_count": 30,
     "metadata": {},
     "output_type": "execute_result"
    }
   ],
   "source": [
    "X=[]\n",
    "sent=list(df[\"review\"])\n",
    "for sen in sent:\n",
    "    X.append(sen)\n",
    "X[100]"
   ]
  },
  {
   "cell_type": "code",
   "execution_count": 31,
   "metadata": {},
   "outputs": [
    {
     "data": {
      "text/plain": [
       "1"
      ]
     },
     "execution_count": 31,
     "metadata": {},
     "output_type": "execute_result"
    }
   ],
   "source": [
    "y=df[\"sentiment\"]\n",
    "y[100]"
   ]
  },
  {
   "cell_type": "code",
   "execution_count": 32,
   "metadata": {},
   "outputs": [],
   "source": [
    "X_train,X_test,y_train,y_test=train_test_split(X,y,test_size=0.2, random_state=0)\n",
    "token=Tokenizer(num_words=5000)\n",
    "token.fit_on_texts(X_train)\n",
    "X_train=token.texts_to_sequences(X_train)\n",
    "X_test=token.texts_to_sequences(X_test)"
   ]
  },
  {
   "cell_type": "code",
   "execution_count": 33,
   "metadata": {},
   "outputs": [
    {
     "data": {
      "text/plain": [
       "143"
      ]
     },
     "execution_count": 33,
     "metadata": {},
     "output_type": "execute_result"
    }
   ],
   "source": [
    "len(X_train[100])"
   ]
  },
  {
   "cell_type": "code",
   "execution_count": 34,
   "metadata": {},
   "outputs": [],
   "source": [
    "max_words=500\n",
    "X_train=pad_sequences(X_train,maxlen=max_words)\n",
    "X_test=pad_sequences(X_test,maxlen=max_words)"
   ]
  },
  {
   "cell_type": "code",
   "execution_count": 35,
   "metadata": {},
   "outputs": [
    {
     "name": "stdout",
     "output_type": "stream",
     "text": [
      "Model: \"sequential_3\"\n",
      "_________________________________________________________________\n",
      "Layer (type)                 Output Shape              Param #   \n",
      "=================================================================\n",
      "embedding_1 (Embedding)      (None, 500, 32)           160000    \n",
      "_________________________________________________________________\n",
      "lstm_1 (LSTM)                (None, 100)               53200     \n",
      "_________________________________________________________________\n",
      "dense_6 (Dense)              (None, 1)                 101       \n",
      "=================================================================\n",
      "Total params: 213,301\n",
      "Trainable params: 213,301\n",
      "Non-trainable params: 0\n",
      "_________________________________________________________________\n",
      "None\n"
     ]
    }
   ],
   "source": [
    "embedding_size=32\n",
    "vocab_size=5000\n",
    "model=Sequential()\n",
    "model.add(Embedding(vocab_size,embedding_size,input_length=max_words))\n",
    "model.add(LSTM(100))\n",
    "model.add(Dense(1, activation='sigmoid'))\n",
    "print(model.summary())"
   ]
  },
  {
   "cell_type": "code",
   "execution_count": 36,
   "metadata": {},
   "outputs": [],
   "source": [
    "model.compile(loss='binary_crossentropy',optimizer='adam',metrics=['accuracy'])"
   ]
  },
  {
   "cell_type": "code",
   "execution_count": 38,
   "metadata": {},
   "outputs": [
    {
     "name": "stdout",
     "output_type": "stream",
     "text": [
      "Train on 39936 samples, validate on 64 samples\n",
      "Epoch 1/3\n",
      "39936/39936 [==============================] - 546s 14ms/step - loss: 0.2140 - accuracy: 0.9179 - val_loss: 0.2285 - val_accuracy: 0.9219\n",
      "Epoch 2/3\n",
      "39936/39936 [==============================] - 544s 14ms/step - loss: 0.1887 - accuracy: 0.9284 - val_loss: 0.2099 - val_accuracy: 0.9219\n",
      "Epoch 3/3\n",
      "39936/39936 [==============================] - 548s 14ms/step - loss: 0.1691 - accuracy: 0.9358 - val_loss: 0.2109 - val_accuracy: 0.9375\n"
     ]
    },
    {
     "data": {
      "text/plain": [
       "<keras.callbacks.callbacks.History at 0x2e096f884c8>"
      ]
     },
     "execution_count": 38,
     "metadata": {},
     "output_type": "execute_result"
    }
   ],
   "source": [
    "batch_count=64\n",
    "epoch_count=3\n",
    "X_valid,y_valid=X_train[:batch_count],y_train[:batch_count]\n",
    "X_train2,y_train2=X_train[batch_count:],y_train[batch_count:]\n",
    "model.fit(X_train2,y_train2,validation_data=(X_valid,y_valid),batch_size=batch_count,epochs=epoch_count)"
   ]
  },
  {
   "cell_type": "code",
   "execution_count": 39,
   "metadata": {},
   "outputs": [
    {
     "data": {
      "text/plain": [
       "array([0, 0, 0, ..., 0, 0, 0], dtype=int64)"
      ]
     },
     "execution_count": 39,
     "metadata": {},
     "output_type": "execute_result"
    }
   ],
   "source": [
    "y_pred=model.predict(X_test)\n",
    "y_pred=np.argmax(y_pred,axis=1)\n",
    "y_pred"
   ]
  },
  {
   "cell_type": "code",
   "execution_count": 40,
   "metadata": {},
   "outputs": [
    {
     "name": "stdout",
     "output_type": "stream",
     "text": [
      "accuracy: 0.8802000284194946\n"
     ]
    }
   ],
   "source": [
    "scores=model.evaluate(X_test,y_test,verbose=0)\n",
    "print(\"accuracy:\",scores[1])"
   ]
  },
  {
   "cell_type": "code",
   "execution_count": 41,
   "metadata": {},
   "outputs": [
    {
     "name": "stdout",
     "output_type": "stream",
     "text": [
      "1 1 [0.9999546021312976]\n",
      "1 0 [4.5397868702434395e-05]\n",
      "0 1 [4.5397868702434395e-05]\n",
      "0 0 [9.357622968839299e-14]\n"
     ]
    }
   ],
   "source": [
    "#5 SLP AND MLP TO BUILD LOGIC GATES\n",
    "from math import exp\n",
    "#AND GATE\n",
    "# Calculate neuron activation for an input\n",
    "def activate(weights, inputs):\n",
    "\tactivation = weights[-1]\n",
    "\tfor i in range(len(weights)-1):\n",
    "\t\tactivation += weights[i] * inputs[i]\n",
    "\treturn activation\n",
    "\n",
    "# Transfer neuron activation\n",
    "def transfer(activation):\n",
    "    p= 1.0 / (1.0 + exp(-activation))\n",
    "    return 1.0 / (1.0 + exp(-activation))\n",
    "\n",
    "# Forward propagate input to a network output\n",
    "def forward_propagate(network, row):\n",
    "    inputs = row\n",
    "    for layer in network:\n",
    "        new_inputs = []\n",
    "        for neuron in layer:\n",
    "            activation = activate(neuron['weights'], inputs)\n",
    "            neuron['output'] = transfer(activation)\n",
    "            new_inputs.append(neuron['output'])\n",
    "        inputs = new_inputs\n",
    "    return inputs\n",
    "\n",
    "# test forward propagation\n",
    "network = [[{'weights': [20, 20, -30]}]]\n",
    "row = [1, 1, None]\n",
    "output = forward_propagate(network, row)\n",
    "print(1, 1, output)\n",
    "row = [1, 0, None]\n",
    "output = forward_propagate(network, row)\n",
    "print(1, 0, output)\n",
    "row = [0, 1, None]\n",
    "output = forward_propagate(network, row)\n",
    "print(0, 1, output)\n",
    "row = [0, 0, None]\n",
    "output = forward_propagate(network, row)\n",
    "print(0, 0, output)\n"
   ]
  },
  {
   "cell_type": "code",
   "execution_count": 42,
   "metadata": {},
   "outputs": [
    {
     "name": "stdout",
     "output_type": "stream",
     "text": [
      "1 1 [0.9999999999999065]\n",
      "1 0 [0.9999546021312976]\n",
      "0 1 [0.9999546021312976]\n",
      "0 0 [4.5397868702434395e-05]\n"
     ]
    }
   ],
   "source": [
    "# Example of forward propagating input\n",
    "from math import exp\n",
    "#OR GATE\n",
    "# Calculate neuron activation for an input\n",
    "def activate(weights, inputs):\n",
    "\tactivation = weights[-1]\n",
    "\tfor i in range(len(weights)-1):\n",
    "\t\tactivation += weights[i] * inputs[i]\n",
    "\treturn activation\n",
    "\n",
    "# Transfer neuron activation\n",
    "def transfer(activation):\n",
    "    p= 1.0 / (1.0 + exp(-activation))\n",
    "    return 1.0 / (1.0 + exp(-activation))\n",
    "\n",
    "# Forward propagate input to a network output\n",
    "def forward_propagate(network, row):\n",
    "    inputs = row\n",
    "    for layer in network:\n",
    "        new_inputs = []\n",
    "        for neuron in layer:\n",
    "            activation = activate(neuron['weights'], inputs)\n",
    "            neuron['output'] = transfer(activation)\n",
    "            new_inputs.append(neuron['output'])\n",
    "        inputs = new_inputs\n",
    "    return inputs\n",
    "\n",
    "# test forward propagation\n",
    "network = [[{'weights': [20, 20, -10]}]]\n",
    "row = [1, 1, None]\n",
    "output = forward_propagate(network, row)\n",
    "print(1, 1, output)\n",
    "row = [1, 0, None]\n",
    "output = forward_propagate(network, row)\n",
    "print(1, 0, output)\n",
    "row = [0, 1, None]\n",
    "output = forward_propagate(network, row)\n",
    "print(0, 1, output)\n",
    "row = [0, 0, None]\n",
    "output = forward_propagate(network, row)\n",
    "print(0, 0, output)\n"
   ]
  },
  {
   "cell_type": "code",
   "execution_count": 43,
   "metadata": {},
   "outputs": [
    {
     "name": "stdout",
     "output_type": "stream",
     "text": [
      "1 [4.5397868702434395e-05]\n",
      "0 [0.9999546021312976]\n"
     ]
    }
   ],
   "source": [
    "# Example of forward propagating input\n",
    "from math import exp\n",
    "#NOT GATE\n",
    "# Calculate neuron activation for an input\n",
    "def activate(weights, inputs):\n",
    "\tactivation = weights[-1]\n",
    "\tfor i in range(len(weights)-1):\n",
    "\t\tactivation += weights[i] * inputs[i]\n",
    "\treturn activation\n",
    "\n",
    "# Transfer neuron activation\n",
    "def transfer(activation):\n",
    "    p= 1.0 / (1.0 + exp(-activation))\n",
    "    return 1.0 / (1.0 + exp(-activation))\n",
    "\n",
    "# Forward propagate input to a network output\n",
    "def forward_propagate(network, row):\n",
    "    inputs = row\n",
    "    for layer in network:\n",
    "        new_inputs = []\n",
    "        for neuron in layer:\n",
    "            activation = activate(neuron['weights'], inputs)\n",
    "            neuron['output'] = transfer(activation)\n",
    "            new_inputs.append(neuron['output'])\n",
    "        inputs = new_inputs\n",
    "    return inputs\n",
    "\n",
    "# test forward propagation\n",
    "network = [[{'weights': [-20, 10]}]]\n",
    "row = [1, None]\n",
    "output = forward_propagate(network, row)\n",
    "print(1, output)\n",
    "row = [0, None]\n",
    "output = forward_propagate(network, row)\n",
    "print(0, output)\n"
   ]
  },
  {
   "cell_type": "code",
   "execution_count": 44,
   "metadata": {},
   "outputs": [],
   "source": [
    "#6 REGRESSION USING ANN ON BOSTON HOUSING DATASET\n",
    "import pandas as pd\n",
    "import keras\n",
    "from keras.models import Sequential\n",
    "from keras.layers import Dense\n",
    "from keras.wrappers.scikit_learn import KerasRegressor\n",
    "from sklearn.model_selection import cross_val_score, KFold,train_test_split\n",
    "from sklearn.preprocessing import StandardScaler,MinMaxScaler\n",
    "from sklearn.pipeline import Pipeline\n",
    "import matplotlib.pyplot as plt\n",
    "%matplotlib inline"
   ]
  },
  {
   "cell_type": "code",
   "execution_count": 45,
   "metadata": {},
   "outputs": [
    {
     "data": {
      "text/html": [
       "<div>\n",
       "<style scoped>\n",
       "    .dataframe tbody tr th:only-of-type {\n",
       "        vertical-align: middle;\n",
       "    }\n",
       "\n",
       "    .dataframe tbody tr th {\n",
       "        vertical-align: top;\n",
       "    }\n",
       "\n",
       "    .dataframe thead th {\n",
       "        text-align: right;\n",
       "    }\n",
       "</style>\n",
       "<table border=\"1\" class=\"dataframe\">\n",
       "  <thead>\n",
       "    <tr style=\"text-align: right;\">\n",
       "      <th></th>\n",
       "      <th>CRIM</th>\n",
       "      <th>ZN</th>\n",
       "      <th>INDUS</th>\n",
       "      <th>CHAS</th>\n",
       "      <th>NOX</th>\n",
       "      <th>RM</th>\n",
       "      <th>AGE</th>\n",
       "      <th>DIS</th>\n",
       "      <th>RAD</th>\n",
       "      <th>TAX</th>\n",
       "      <th>PTRATIO</th>\n",
       "      <th>B</th>\n",
       "      <th>LSTAT</th>\n",
       "      <th>MEDV</th>\n",
       "    </tr>\n",
       "  </thead>\n",
       "  <tbody>\n",
       "    <tr>\n",
       "      <th>0</th>\n",
       "      <td>0.00632</td>\n",
       "      <td>18.0</td>\n",
       "      <td>2.31</td>\n",
       "      <td>0.0</td>\n",
       "      <td>0.538</td>\n",
       "      <td>6.575</td>\n",
       "      <td>65.2</td>\n",
       "      <td>4.0900</td>\n",
       "      <td>1</td>\n",
       "      <td>296</td>\n",
       "      <td>15.3</td>\n",
       "      <td>396.90</td>\n",
       "      <td>4.98</td>\n",
       "      <td>24.0</td>\n",
       "    </tr>\n",
       "    <tr>\n",
       "      <th>1</th>\n",
       "      <td>0.02731</td>\n",
       "      <td>0.0</td>\n",
       "      <td>7.07</td>\n",
       "      <td>0.0</td>\n",
       "      <td>0.469</td>\n",
       "      <td>6.421</td>\n",
       "      <td>78.9</td>\n",
       "      <td>4.9671</td>\n",
       "      <td>2</td>\n",
       "      <td>242</td>\n",
       "      <td>17.8</td>\n",
       "      <td>396.90</td>\n",
       "      <td>9.14</td>\n",
       "      <td>21.6</td>\n",
       "    </tr>\n",
       "    <tr>\n",
       "      <th>2</th>\n",
       "      <td>0.02729</td>\n",
       "      <td>0.0</td>\n",
       "      <td>7.07</td>\n",
       "      <td>0.0</td>\n",
       "      <td>0.469</td>\n",
       "      <td>7.185</td>\n",
       "      <td>61.1</td>\n",
       "      <td>4.9671</td>\n",
       "      <td>2</td>\n",
       "      <td>242</td>\n",
       "      <td>17.8</td>\n",
       "      <td>392.83</td>\n",
       "      <td>4.03</td>\n",
       "      <td>34.7</td>\n",
       "    </tr>\n",
       "    <tr>\n",
       "      <th>3</th>\n",
       "      <td>0.03237</td>\n",
       "      <td>0.0</td>\n",
       "      <td>2.18</td>\n",
       "      <td>0.0</td>\n",
       "      <td>0.458</td>\n",
       "      <td>6.998</td>\n",
       "      <td>45.8</td>\n",
       "      <td>6.0622</td>\n",
       "      <td>3</td>\n",
       "      <td>222</td>\n",
       "      <td>18.7</td>\n",
       "      <td>394.63</td>\n",
       "      <td>2.94</td>\n",
       "      <td>33.4</td>\n",
       "    </tr>\n",
       "    <tr>\n",
       "      <th>4</th>\n",
       "      <td>0.06905</td>\n",
       "      <td>0.0</td>\n",
       "      <td>2.18</td>\n",
       "      <td>0.0</td>\n",
       "      <td>0.458</td>\n",
       "      <td>7.147</td>\n",
       "      <td>54.2</td>\n",
       "      <td>6.0622</td>\n",
       "      <td>3</td>\n",
       "      <td>222</td>\n",
       "      <td>18.7</td>\n",
       "      <td>396.90</td>\n",
       "      <td>NaN</td>\n",
       "      <td>36.2</td>\n",
       "    </tr>\n",
       "  </tbody>\n",
       "</table>\n",
       "</div>"
      ],
      "text/plain": [
       "      CRIM    ZN  INDUS  CHAS    NOX     RM   AGE     DIS  RAD  TAX  PTRATIO  \\\n",
       "0  0.00632  18.0   2.31   0.0  0.538  6.575  65.2  4.0900    1  296     15.3   \n",
       "1  0.02731   0.0   7.07   0.0  0.469  6.421  78.9  4.9671    2  242     17.8   \n",
       "2  0.02729   0.0   7.07   0.0  0.469  7.185  61.1  4.9671    2  242     17.8   \n",
       "3  0.03237   0.0   2.18   0.0  0.458  6.998  45.8  6.0622    3  222     18.7   \n",
       "4  0.06905   0.0   2.18   0.0  0.458  7.147  54.2  6.0622    3  222     18.7   \n",
       "\n",
       "        B  LSTAT  MEDV  \n",
       "0  396.90   4.98  24.0  \n",
       "1  396.90   9.14  21.6  \n",
       "2  392.83   4.03  34.7  \n",
       "3  394.63   2.94  33.4  \n",
       "4  396.90    NaN  36.2  "
      ]
     },
     "execution_count": 45,
     "metadata": {},
     "output_type": "execute_result"
    }
   ],
   "source": [
    "df=pd.read_csv(r'C:\\Users\\Niketa Mittal\\Downloads\\HousingData.csv')\n",
    "df.head()"
   ]
  },
  {
   "cell_type": "code",
   "execution_count": 46,
   "metadata": {},
   "outputs": [
    {
     "name": "stdout",
     "output_type": "stream",
     "text": [
      "<class 'pandas.core.frame.DataFrame'>\n",
      "RangeIndex: 506 entries, 0 to 505\n",
      "Data columns (total 14 columns):\n",
      " #   Column   Non-Null Count  Dtype  \n",
      "---  ------   --------------  -----  \n",
      " 0   CRIM     486 non-null    float64\n",
      " 1   ZN       486 non-null    float64\n",
      " 2   INDUS    486 non-null    float64\n",
      " 3   CHAS     486 non-null    float64\n",
      " 4   NOX      506 non-null    float64\n",
      " 5   RM       506 non-null    float64\n",
      " 6   AGE      486 non-null    float64\n",
      " 7   DIS      506 non-null    float64\n",
      " 8   RAD      506 non-null    int64  \n",
      " 9   TAX      506 non-null    int64  \n",
      " 10  PTRATIO  506 non-null    float64\n",
      " 11  B        506 non-null    float64\n",
      " 12  LSTAT    486 non-null    float64\n",
      " 13  MEDV     506 non-null    float64\n",
      "dtypes: float64(12), int64(2)\n",
      "memory usage: 55.5 KB\n"
     ]
    }
   ],
   "source": [
    "df.info()"
   ]
  },
  {
   "cell_type": "code",
   "execution_count": 47,
   "metadata": {},
   "outputs": [
    {
     "data": {
      "text/plain": [
       "CRIM       20\n",
       "ZN         20\n",
       "INDUS      20\n",
       "CHAS       20\n",
       "NOX         0\n",
       "RM          0\n",
       "AGE        20\n",
       "DIS         0\n",
       "RAD         0\n",
       "TAX         0\n",
       "PTRATIO     0\n",
       "B           0\n",
       "LSTAT      20\n",
       "MEDV        0\n",
       "dtype: int64"
      ]
     },
     "execution_count": 47,
     "metadata": {},
     "output_type": "execute_result"
    }
   ],
   "source": [
    "df.isna().sum()"
   ]
  },
  {
   "cell_type": "code",
   "execution_count": 48,
   "metadata": {},
   "outputs": [
    {
     "data": {
      "text/plain": [
       "CRIM       20\n",
       "ZN         20\n",
       "INDUS      20\n",
       "CHAS       20\n",
       "NOX         0\n",
       "RM          0\n",
       "AGE        20\n",
       "DIS         0\n",
       "RAD         0\n",
       "TAX         0\n",
       "PTRATIO     0\n",
       "B           0\n",
       "LSTAT      20\n",
       "dtype: int64"
      ]
     },
     "execution_count": 48,
     "metadata": {},
     "output_type": "execute_result"
    }
   ],
   "source": [
    "X=df.iloc[:,0:13]\n",
    "y=df.iloc[:,13]\n",
    "X.isna().sum()"
   ]
  },
  {
   "cell_type": "code",
   "execution_count": 49,
   "metadata": {},
   "outputs": [
    {
     "name": "stdout",
     "output_type": "stream",
     "text": [
      "(506, 13)\n"
     ]
    },
    {
     "data": {
      "text/plain": [
       "(506,)"
      ]
     },
     "execution_count": 49,
     "metadata": {},
     "output_type": "execute_result"
    }
   ],
   "source": [
    "from sklearn.impute import KNNImputer\n",
    "imp=KNNImputer(n_neighbors=2,weights='uniform')\n",
    "X_new=pd.DataFrame(imp.fit_transform(X),columns=X.columns)\n",
    "X_new.isna().sum()\n",
    "print(X_new.shape)\n",
    "y.shape"
   ]
  },
  {
   "cell_type": "code",
   "execution_count": 50,
   "metadata": {},
   "outputs": [
    {
     "name": "stdout",
     "output_type": "stream",
     "text": [
      "(404, 13)\n",
      "(102, 13)\n",
      "(404,)\n",
      "(102,)\n"
     ]
    }
   ],
   "source": [
    "X_train,X_test,y_train,y_test=train_test_split(X_new,y,test_size=0.2,random_state=0)\n",
    "sc=StandardScaler()\n",
    "X_train=sc.fit_transform(X_train)\n",
    "X_test=sc.transform(X_test)\n",
    "print(X_train.shape)\n",
    "print(X_test.shape)\n",
    "print(y_train.shape)\n",
    "print(y_test.shape)"
   ]
  },
  {
   "cell_type": "code",
   "execution_count": 51,
   "metadata": {},
   "outputs": [
    {
     "name": "stdout",
     "output_type": "stream",
     "text": [
      "Model: \"sequential_4\"\n",
      "_________________________________________________________________\n",
      "Layer (type)                 Output Shape              Param #   \n",
      "=================================================================\n",
      "dense_7 (Dense)              (None, 128)               1792      \n",
      "_________________________________________________________________\n",
      "dense_8 (Dense)              (None, 256)               33024     \n",
      "_________________________________________________________________\n",
      "dense_9 (Dense)              (None, 256)               65792     \n",
      "_________________________________________________________________\n",
      "dense_10 (Dense)             (None, 256)               65792     \n",
      "_________________________________________________________________\n",
      "dense_11 (Dense)             (None, 1)                 257       \n",
      "=================================================================\n",
      "Total params: 166,657\n",
      "Trainable params: 166,657\n",
      "Non-trainable params: 0\n",
      "_________________________________________________________________\n",
      "None\n"
     ]
    }
   ],
   "source": [
    "model=Sequential()\n",
    "model.add(Dense(128,input_dim=X_train.shape[1],activation='relu'))\n",
    "model.add(Dense(256,activation='relu'))\n",
    "model.add(Dense(256,activation='relu'))\n",
    "model.add(Dense(256,activation='relu'))\n",
    "model.add(Dense(1,activation='linear'))\n",
    "#opt=keras.optimizers.Adamax(learning_rate=0.01)\n",
    "#model.compile(loss='mean_squared_error',optimizer=opt)\n",
    "model.compile(loss='mean_absolute_error', optimizer='adam', metrics=['mean_absolute_error'])\n",
    "print(model.summary())"
   ]
  },
  {
   "cell_type": "code",
   "execution_count": 52,
   "metadata": {},
   "outputs": [
    {
     "name": "stdout",
     "output_type": "stream",
     "text": [
      "Train on 323 samples, validate on 81 samples\n",
      "Epoch 1/200\n",
      "323/323 [==============================] - 0s 576us/step - loss: 21.7291 - mean_absolute_error: 21.7291 - val_loss: 18.8108 - val_mean_absolute_error: 18.8108\n",
      "Epoch 2/200\n",
      "323/323 [==============================] - 0s 75us/step - loss: 15.4882 - mean_absolute_error: 15.4882 - val_loss: 8.3007 - val_mean_absolute_error: 8.3007\n",
      "Epoch 3/200\n",
      "323/323 [==============================] - 0s 74us/step - loss: 10.4293 - mean_absolute_error: 10.4293 - val_loss: 7.1616 - val_mean_absolute_error: 7.1616\n",
      "Epoch 4/200\n",
      "323/323 [==============================] - 0s 71us/step - loss: 6.1032 - mean_absolute_error: 6.1032 - val_loss: 5.1240 - val_mean_absolute_error: 5.1240\n",
      "Epoch 5/200\n",
      "323/323 [==============================] - 0s 105us/step - loss: 4.6226 - mean_absolute_error: 4.6226 - val_loss: 4.7162 - val_mean_absolute_error: 4.7162\n",
      "Epoch 6/200\n",
      "323/323 [==============================] - 0s 77us/step - loss: 3.7540 - mean_absolute_error: 3.7540 - val_loss: 3.2786 - val_mean_absolute_error: 3.2786\n",
      "Epoch 7/200\n",
      "323/323 [==============================] - 0s 124us/step - loss: 3.4144 - mean_absolute_error: 3.4144 - val_loss: 2.8989 - val_mean_absolute_error: 2.8989\n",
      "Epoch 8/200\n",
      "323/323 [==============================] - 0s 77us/step - loss: 2.8209 - mean_absolute_error: 2.8209 - val_loss: 2.9905 - val_mean_absolute_error: 2.9905\n",
      "Epoch 9/200\n",
      "323/323 [==============================] - 0s 142us/step - loss: 2.7243 - mean_absolute_error: 2.7243 - val_loss: 2.5321 - val_mean_absolute_error: 2.5321\n",
      "Epoch 10/200\n",
      "323/323 [==============================] - 0s 86us/step - loss: 2.6199 - mean_absolute_error: 2.6199 - val_loss: 2.3458 - val_mean_absolute_error: 2.3458\n",
      "Epoch 11/200\n",
      "323/323 [==============================] - 0s 71us/step - loss: 2.4487 - mean_absolute_error: 2.4487 - val_loss: 2.8166 - val_mean_absolute_error: 2.8166\n",
      "Epoch 12/200\n",
      "323/323 [==============================] - 0s 117us/step - loss: 2.3571 - mean_absolute_error: 2.3571 - val_loss: 2.3037 - val_mean_absolute_error: 2.3037\n",
      "Epoch 13/200\n",
      "323/323 [==============================] - 0s 80us/step - loss: 2.2375 - mean_absolute_error: 2.2375 - val_loss: 2.1830 - val_mean_absolute_error: 2.1830\n",
      "Epoch 14/200\n",
      "323/323 [==============================] - 0s 77us/step - loss: 2.1909 - mean_absolute_error: 2.1909 - val_loss: 2.2551 - val_mean_absolute_error: 2.2551\n",
      "Epoch 15/200\n",
      "323/323 [==============================] - 0s 119us/step - loss: 2.0151 - mean_absolute_error: 2.0151 - val_loss: 2.3401 - val_mean_absolute_error: 2.3401\n",
      "Epoch 16/200\n",
      "323/323 [==============================] - 0s 77us/step - loss: 2.0768 - mean_absolute_error: 2.0768 - val_loss: 2.3227 - val_mean_absolute_error: 2.3227\n",
      "Epoch 17/200\n",
      "323/323 [==============================] - 0s 117us/step - loss: 1.9758 - mean_absolute_error: 1.9758 - val_loss: 2.3841 - val_mean_absolute_error: 2.3841\n",
      "Epoch 18/200\n",
      "323/323 [==============================] - 0s 77us/step - loss: 2.0214 - mean_absolute_error: 2.0214 - val_loss: 2.0507 - val_mean_absolute_error: 2.0507\n",
      "Epoch 19/200\n",
      "323/323 [==============================] - 0s 122us/step - loss: 1.9658 - mean_absolute_error: 1.9658 - val_loss: 2.3377 - val_mean_absolute_error: 2.3377\n",
      "Epoch 20/200\n",
      "323/323 [==============================] - 0s 80us/step - loss: 1.9164 - mean_absolute_error: 1.9164 - val_loss: 2.1292 - val_mean_absolute_error: 2.1292\n",
      "Epoch 21/200\n",
      "323/323 [==============================] - 0s 74us/step - loss: 1.8641 - mean_absolute_error: 1.8641 - val_loss: 2.0613 - val_mean_absolute_error: 2.0613\n",
      "Epoch 22/200\n",
      "323/323 [==============================] - 0s 148us/step - loss: 1.7705 - mean_absolute_error: 1.7705 - val_loss: 2.1725 - val_mean_absolute_error: 2.1725\n",
      "Epoch 23/200\n",
      "323/323 [==============================] - 0s 93us/step - loss: 1.7533 - mean_absolute_error: 1.7533 - val_loss: 2.1649 - val_mean_absolute_error: 2.1649\n",
      "Epoch 24/200\n",
      "323/323 [==============================] - 0s 86us/step - loss: 1.7324 - mean_absolute_error: 1.7324 - val_loss: 2.0434 - val_mean_absolute_error: 2.0434\n",
      "Epoch 25/200\n",
      "323/323 [==============================] - 0s 120us/step - loss: 1.8090 - mean_absolute_error: 1.8090 - val_loss: 2.3215 - val_mean_absolute_error: 2.3215\n",
      "Epoch 26/200\n",
      "323/323 [==============================] - 0s 80us/step - loss: 1.7499 - mean_absolute_error: 1.7499 - val_loss: 2.1159 - val_mean_absolute_error: 2.1159\n",
      "Epoch 27/200\n",
      "323/323 [==============================] - 0s 74us/step - loss: 1.7788 - mean_absolute_error: 1.7788 - val_loss: 2.3990 - val_mean_absolute_error: 2.3990\n",
      "Epoch 28/200\n",
      "323/323 [==============================] - 0s 120us/step - loss: 1.8431 - mean_absolute_error: 1.8431 - val_loss: 2.3175 - val_mean_absolute_error: 2.3175\n",
      "Epoch 29/200\n",
      "323/323 [==============================] - 0s 90us/step - loss: 1.8762 - mean_absolute_error: 1.8762 - val_loss: 2.0957 - val_mean_absolute_error: 2.0957\n",
      "Epoch 30/200\n",
      "323/323 [==============================] - 0s 77us/step - loss: 1.6258 - mean_absolute_error: 1.6258 - val_loss: 2.0790 - val_mean_absolute_error: 2.0790\n",
      "Epoch 31/200\n",
      "323/323 [==============================] - 0s 120us/step - loss: 1.5654 - mean_absolute_error: 1.5654 - val_loss: 2.0788 - val_mean_absolute_error: 2.0788\n",
      "Epoch 32/200\n",
      "323/323 [==============================] - 0s 85us/step - loss: 1.5462 - mean_absolute_error: 1.5462 - val_loss: 2.0680 - val_mean_absolute_error: 2.0680\n",
      "Epoch 33/200\n",
      "323/323 [==============================] - 0s 77us/step - loss: 1.5038 - mean_absolute_error: 1.5038 - val_loss: 2.0165 - val_mean_absolute_error: 2.0165\n",
      "Epoch 34/200\n",
      "323/323 [==============================] - 0s 117us/step - loss: 1.4437 - mean_absolute_error: 1.4437 - val_loss: 2.1181 - val_mean_absolute_error: 2.1181\n",
      "Epoch 35/200\n",
      "323/323 [==============================] - 0s 80us/step - loss: 1.4754 - mean_absolute_error: 1.4754 - val_loss: 1.9718 - val_mean_absolute_error: 1.9718\n",
      "Epoch 36/200\n",
      "323/323 [==============================] - 0s 117us/step - loss: 1.5064 - mean_absolute_error: 1.5064 - val_loss: 2.0890 - val_mean_absolute_error: 2.0890\n",
      "Epoch 37/200\n",
      "323/323 [==============================] - 0s 74us/step - loss: 1.4117 - mean_absolute_error: 1.4117 - val_loss: 2.0385 - val_mean_absolute_error: 2.0385\n",
      "Epoch 38/200\n",
      "323/323 [==============================] - 0s 108us/step - loss: 1.3859 - mean_absolute_error: 1.3859 - val_loss: 1.9810 - val_mean_absolute_error: 1.9810\n",
      "Epoch 39/200\n",
      "323/323 [==============================] - 0s 71us/step - loss: 1.3286 - mean_absolute_error: 1.3286 - val_loss: 2.1748 - val_mean_absolute_error: 2.1748\n",
      "Epoch 40/200\n",
      "323/323 [==============================] - 0s 74us/step - loss: 1.3812 - mean_absolute_error: 1.3812 - val_loss: 2.0702 - val_mean_absolute_error: 2.0702\n",
      "Epoch 41/200\n",
      "323/323 [==============================] - 0s 142us/step - loss: 1.4558 - mean_absolute_error: 1.4558 - val_loss: 2.0927 - val_mean_absolute_error: 2.0927\n",
      "Epoch 42/200\n",
      "323/323 [==============================] - 0s 93us/step - loss: 1.3894 - mean_absolute_error: 1.3894 - val_loss: 2.0096 - val_mean_absolute_error: 2.0096\n",
      "Epoch 43/200\n",
      "323/323 [==============================] - 0s 77us/step - loss: 1.4242 - mean_absolute_error: 1.4242 - val_loss: 2.1038 - val_mean_absolute_error: 2.1038\n",
      "Epoch 44/200\n",
      "323/323 [==============================] - 0s 170us/step - loss: 1.3381 - mean_absolute_error: 1.3381 - val_loss: 2.1957 - val_mean_absolute_error: 2.1957\n",
      "Epoch 45/200\n",
      "323/323 [==============================] - 0s 86us/step - loss: 1.3223 - mean_absolute_error: 1.3223 - val_loss: 2.1848 - val_mean_absolute_error: 2.1848\n",
      "Epoch 46/200\n",
      "323/323 [==============================] - 0s 105us/step - loss: 1.3268 - mean_absolute_error: 1.3268 - val_loss: 2.1736 - val_mean_absolute_error: 2.1736\n",
      "Epoch 47/200\n",
      "323/323 [==============================] - 0s 130us/step - loss: 1.2720 - mean_absolute_error: 1.2720 - val_loss: 2.1272 - val_mean_absolute_error: 2.1272\n",
      "Epoch 48/200\n",
      "323/323 [==============================] - 0s 111us/step - loss: 1.2079 - mean_absolute_error: 1.2079 - val_loss: 2.2129 - val_mean_absolute_error: 2.2129\n",
      "Epoch 49/200\n",
      "323/323 [==============================] - 0s 105us/step - loss: 1.3288 - mean_absolute_error: 1.3288 - val_loss: 2.3950 - val_mean_absolute_error: 2.3950\n"
     ]
    },
    {
     "name": "stdout",
     "output_type": "stream",
     "text": [
      "Epoch 50/200\n",
      "323/323 [==============================] - 0s 133us/step - loss: 1.3347 - mean_absolute_error: 1.3347 - val_loss: 2.0773 - val_mean_absolute_error: 2.0773\n",
      "Epoch 51/200\n",
      "323/323 [==============================] - 0s 139us/step - loss: 1.5440 - mean_absolute_error: 1.5440 - val_loss: 2.3987 - val_mean_absolute_error: 2.3987\n",
      "Epoch 52/200\n",
      "323/323 [==============================] - 0s 114us/step - loss: 1.8328 - mean_absolute_error: 1.8328 - val_loss: 2.5233 - val_mean_absolute_error: 2.5233\n",
      "Epoch 53/200\n",
      "323/323 [==============================] - 0s 130us/step - loss: 1.4968 - mean_absolute_error: 1.4968 - val_loss: 2.0188 - val_mean_absolute_error: 2.0188\n",
      "Epoch 54/200\n",
      "323/323 [==============================] - 0s 108us/step - loss: 1.3044 - mean_absolute_error: 1.3044 - val_loss: 2.2274 - val_mean_absolute_error: 2.2274\n",
      "Epoch 55/200\n",
      "323/323 [==============================] - 0s 108us/step - loss: 1.1453 - mean_absolute_error: 1.1453 - val_loss: 2.0707 - val_mean_absolute_error: 2.0707\n",
      "Epoch 56/200\n",
      "323/323 [==============================] - 0s 117us/step - loss: 1.0803 - mean_absolute_error: 1.0803 - val_loss: 2.0664 - val_mean_absolute_error: 2.0664\n",
      "Epoch 57/200\n",
      "323/323 [==============================] - 0s 154us/step - loss: 1.1487 - mean_absolute_error: 1.1487 - val_loss: 2.0926 - val_mean_absolute_error: 2.0926\n",
      "Epoch 58/200\n",
      "323/323 [==============================] - 0s 151us/step - loss: 1.0624 - mean_absolute_error: 1.0624 - val_loss: 2.1908 - val_mean_absolute_error: 2.1908\n",
      "Epoch 59/200\n",
      "323/323 [==============================] - 0s 117us/step - loss: 1.2028 - mean_absolute_error: 1.2028 - val_loss: 2.1422 - val_mean_absolute_error: 2.1422\n",
      "Epoch 60/200\n",
      "323/323 [==============================] - 0s 127us/step - loss: 1.2149 - mean_absolute_error: 1.2149 - val_loss: 2.0380 - val_mean_absolute_error: 2.0380\n",
      "Epoch 61/200\n",
      "323/323 [==============================] - 0s 133us/step - loss: 1.1600 - mean_absolute_error: 1.1600 - val_loss: 2.1656 - val_mean_absolute_error: 2.1656\n",
      "Epoch 62/200\n",
      "323/323 [==============================] - 0s 124us/step - loss: 1.1179 - mean_absolute_error: 1.1179 - val_loss: 2.0806 - val_mean_absolute_error: 2.0806\n",
      "Epoch 63/200\n",
      "323/323 [==============================] - 0s 124us/step - loss: 1.1742 - mean_absolute_error: 1.1742 - val_loss: 2.4757 - val_mean_absolute_error: 2.4757\n",
      "Epoch 64/200\n",
      "323/323 [==============================] - 0s 108us/step - loss: 1.2543 - mean_absolute_error: 1.2543 - val_loss: 2.1288 - val_mean_absolute_error: 2.1288\n",
      "Epoch 65/200\n",
      "323/323 [==============================] - 0s 120us/step - loss: 1.2023 - mean_absolute_error: 1.2023 - val_loss: 2.2242 - val_mean_absolute_error: 2.2242\n",
      "Epoch 66/200\n",
      "323/323 [==============================] - 0s 133us/step - loss: 1.0883 - mean_absolute_error: 1.0883 - val_loss: 2.1510 - val_mean_absolute_error: 2.1510\n",
      "Epoch 67/200\n",
      "323/323 [==============================] - 0s 130us/step - loss: 1.1418 - mean_absolute_error: 1.1418 - val_loss: 2.1945 - val_mean_absolute_error: 2.1945\n",
      "Epoch 68/200\n",
      "323/323 [==============================] - 0s 120us/step - loss: 1.1487 - mean_absolute_error: 1.1487 - val_loss: 2.2297 - val_mean_absolute_error: 2.2297\n",
      "Epoch 69/200\n",
      "323/323 [==============================] - 0s 93us/step - loss: 1.1256 - mean_absolute_error: 1.1256 - val_loss: 1.9165 - val_mean_absolute_error: 1.9165\n",
      "Epoch 70/200\n",
      "323/323 [==============================] - 0s 86us/step - loss: 1.0471 - mean_absolute_error: 1.0471 - val_loss: 2.0922 - val_mean_absolute_error: 2.0922\n",
      "Epoch 71/200\n",
      "323/323 [==============================] - 0s 130us/step - loss: 1.0769 - mean_absolute_error: 1.0769 - val_loss: 2.2817 - val_mean_absolute_error: 2.2817\n",
      "Epoch 72/200\n",
      "323/323 [==============================] - 0s 133us/step - loss: 1.0245 - mean_absolute_error: 1.0245 - val_loss: 2.0256 - val_mean_absolute_error: 2.0256\n",
      "Epoch 73/200\n",
      "323/323 [==============================] - 0s 120us/step - loss: 0.9542 - mean_absolute_error: 0.9542 - val_loss: 2.1157 - val_mean_absolute_error: 2.1157\n",
      "Epoch 74/200\n",
      "323/323 [==============================] - 0s 157us/step - loss: 0.9590 - mean_absolute_error: 0.9590 - val_loss: 2.0402 - val_mean_absolute_error: 2.0402\n",
      "Epoch 75/200\n",
      "323/323 [==============================] - 0s 130us/step - loss: 0.8570 - mean_absolute_error: 0.8570 - val_loss: 1.9957 - val_mean_absolute_error: 1.9957\n",
      "Epoch 76/200\n",
      "323/323 [==============================] - 0s 157us/step - loss: 0.9752 - mean_absolute_error: 0.9752 - val_loss: 2.0909 - val_mean_absolute_error: 2.0909\n",
      "Epoch 77/200\n",
      "323/323 [==============================] - 0s 142us/step - loss: 1.0127 - mean_absolute_error: 1.0127 - val_loss: 2.2816 - val_mean_absolute_error: 2.2816\n",
      "Epoch 78/200\n",
      "323/323 [==============================] - 0s 139us/step - loss: 0.9457 - mean_absolute_error: 0.9457 - val_loss: 1.9891 - val_mean_absolute_error: 1.9891\n",
      "Epoch 79/200\n",
      "323/323 [==============================] - 0s 151us/step - loss: 0.9488 - mean_absolute_error: 0.9488 - val_loss: 2.1578 - val_mean_absolute_error: 2.1578\n",
      "Epoch 80/200\n",
      "323/323 [==============================] - 0s 136us/step - loss: 0.9503 - mean_absolute_error: 0.9503 - val_loss: 2.0641 - val_mean_absolute_error: 2.0641\n",
      "Epoch 81/200\n",
      "323/323 [==============================] - 0s 154us/step - loss: 0.9394 - mean_absolute_error: 0.9394 - val_loss: 2.0226 - val_mean_absolute_error: 2.0226\n",
      "Epoch 82/200\n",
      "323/323 [==============================] - 0s 145us/step - loss: 0.8743 - mean_absolute_error: 0.8743 - val_loss: 2.0048 - val_mean_absolute_error: 2.0048\n",
      "Epoch 83/200\n",
      "323/323 [==============================] - 0s 148us/step - loss: 0.9861 - mean_absolute_error: 0.9861 - val_loss: 2.0566 - val_mean_absolute_error: 2.0566\n",
      "Epoch 84/200\n",
      "323/323 [==============================] - 0s 154us/step - loss: 0.9917 - mean_absolute_error: 0.9917 - val_loss: 2.0611 - val_mean_absolute_error: 2.0611\n",
      "Epoch 85/200\n",
      "323/323 [==============================] - 0s 142us/step - loss: 1.0237 - mean_absolute_error: 1.0237 - val_loss: 2.0093 - val_mean_absolute_error: 2.0093\n",
      "Epoch 86/200\n",
      "323/323 [==============================] - 0s 148us/step - loss: 0.8604 - mean_absolute_error: 0.8604 - val_loss: 2.1725 - val_mean_absolute_error: 2.1725\n",
      "Epoch 87/200\n",
      "323/323 [==============================] - 0s 136us/step - loss: 0.9040 - mean_absolute_error: 0.9040 - val_loss: 1.9024 - val_mean_absolute_error: 1.9024\n",
      "Epoch 88/200\n",
      "323/323 [==============================] - 0s 154us/step - loss: 0.8647 - mean_absolute_error: 0.8647 - val_loss: 2.2141 - val_mean_absolute_error: 2.2141\n",
      "Epoch 89/200\n",
      "323/323 [==============================] - 0s 167us/step - loss: 0.8516 - mean_absolute_error: 0.8516 - val_loss: 2.0051 - val_mean_absolute_error: 2.0051\n",
      "Epoch 90/200\n",
      "323/323 [==============================] - 0s 170us/step - loss: 0.8290 - mean_absolute_error: 0.8290 - val_loss: 2.0344 - val_mean_absolute_error: 2.0344\n",
      "Epoch 91/200\n",
      "323/323 [==============================] - 0s 148us/step - loss: 0.9425 - mean_absolute_error: 0.9425 - val_loss: 1.9441 - val_mean_absolute_error: 1.9441\n",
      "Epoch 92/200\n",
      "323/323 [==============================] - 0s 154us/step - loss: 0.8861 - mean_absolute_error: 0.8861 - val_loss: 2.1628 - val_mean_absolute_error: 2.1628\n",
      "Epoch 93/200\n",
      "323/323 [==============================] - 0s 142us/step - loss: 0.8815 - mean_absolute_error: 0.8815 - val_loss: 2.0079 - val_mean_absolute_error: 2.0079\n",
      "Epoch 94/200\n",
      "323/323 [==============================] - 0s 133us/step - loss: 0.8419 - mean_absolute_error: 0.8419 - val_loss: 2.0530 - val_mean_absolute_error: 2.0530\n",
      "Epoch 95/200\n",
      "323/323 [==============================] - 0s 142us/step - loss: 0.7685 - mean_absolute_error: 0.7685 - val_loss: 2.2010 - val_mean_absolute_error: 2.2010\n",
      "Epoch 96/200\n",
      "323/323 [==============================] - 0s 133us/step - loss: 0.8145 - mean_absolute_error: 0.8145 - val_loss: 2.0072 - val_mean_absolute_error: 2.0072\n",
      "Epoch 97/200\n",
      "323/323 [==============================] - 0s 145us/step - loss: 0.8748 - mean_absolute_error: 0.8748 - val_loss: 1.9350 - val_mean_absolute_error: 1.9350\n",
      "Epoch 98/200\n",
      "323/323 [==============================] - 0s 142us/step - loss: 0.8681 - mean_absolute_error: 0.8681 - val_loss: 2.1476 - val_mean_absolute_error: 2.1476\n"
     ]
    },
    {
     "name": "stdout",
     "output_type": "stream",
     "text": [
      "Epoch 99/200\n",
      "323/323 [==============================] - 0s 175us/step - loss: 0.7724 - mean_absolute_error: 0.7724 - val_loss: 1.9852 - val_mean_absolute_error: 1.9852\n",
      "Epoch 100/200\n",
      "323/323 [==============================] - 0s 164us/step - loss: 0.7591 - mean_absolute_error: 0.7591 - val_loss: 1.9842 - val_mean_absolute_error: 1.9842\n",
      "Epoch 101/200\n",
      "323/323 [==============================] - 0s 204us/step - loss: 0.8831 - mean_absolute_error: 0.8831 - val_loss: 2.1640 - val_mean_absolute_error: 2.1640\n",
      "Epoch 102/200\n",
      "323/323 [==============================] - 0s 145us/step - loss: 1.0625 - mean_absolute_error: 1.0625 - val_loss: 1.9844 - val_mean_absolute_error: 1.9844\n",
      "Epoch 103/200\n",
      "323/323 [==============================] - 0s 167us/step - loss: 1.1356 - mean_absolute_error: 1.1356 - val_loss: 2.4328 - val_mean_absolute_error: 2.4328\n",
      "Epoch 104/200\n",
      "323/323 [==============================] - 0s 130us/step - loss: 1.3116 - mean_absolute_error: 1.3116 - val_loss: 2.1342 - val_mean_absolute_error: 2.1342\n",
      "Epoch 105/200\n",
      "323/323 [==============================] - 0s 151us/step - loss: 1.0239 - mean_absolute_error: 1.0239 - val_loss: 1.8939 - val_mean_absolute_error: 1.8939\n",
      "Epoch 106/200\n",
      "323/323 [==============================] - 0s 117us/step - loss: 0.9181 - mean_absolute_error: 0.9181 - val_loss: 2.1082 - val_mean_absolute_error: 2.1082\n",
      "Epoch 107/200\n",
      "323/323 [==============================] - 0s 148us/step - loss: 0.8702 - mean_absolute_error: 0.8702 - val_loss: 1.9957 - val_mean_absolute_error: 1.9957\n",
      "Epoch 108/200\n",
      "323/323 [==============================] - 0s 130us/step - loss: 0.8133 - mean_absolute_error: 0.8133 - val_loss: 2.0407 - val_mean_absolute_error: 2.0407\n",
      "Epoch 109/200\n",
      "323/323 [==============================] - 0s 157us/step - loss: 0.8813 - mean_absolute_error: 0.8813 - val_loss: 1.9547 - val_mean_absolute_error: 1.9547\n",
      "Epoch 110/200\n",
      "323/323 [==============================] - 0s 165us/step - loss: 0.9216 - mean_absolute_error: 0.9216 - val_loss: 2.1478 - val_mean_absolute_error: 2.1478\n",
      "Epoch 111/200\n",
      "323/323 [==============================] - 0s 136us/step - loss: 0.8324 - mean_absolute_error: 0.8324 - val_loss: 2.2339 - val_mean_absolute_error: 2.2339\n",
      "Epoch 112/200\n",
      "323/323 [==============================] - 0s 167us/step - loss: 0.9516 - mean_absolute_error: 0.9516 - val_loss: 2.0199 - val_mean_absolute_error: 2.0199\n",
      "Epoch 113/200\n",
      "323/323 [==============================] - 0s 139us/step - loss: 0.8211 - mean_absolute_error: 0.8211 - val_loss: 2.1414 - val_mean_absolute_error: 2.1414\n",
      "Epoch 114/200\n",
      "323/323 [==============================] - 0s 154us/step - loss: 0.8981 - mean_absolute_error: 0.8981 - val_loss: 1.9429 - val_mean_absolute_error: 1.9429\n",
      "Epoch 115/200\n",
      "323/323 [==============================] - 0s 142us/step - loss: 0.7471 - mean_absolute_error: 0.7471 - val_loss: 2.0608 - val_mean_absolute_error: 2.0608\n",
      "Epoch 116/200\n",
      "323/323 [==============================] - 0s 164us/step - loss: 0.8444 - mean_absolute_error: 0.8444 - val_loss: 2.2275 - val_mean_absolute_error: 2.2275\n",
      "Epoch 117/200\n",
      "323/323 [==============================] - 0s 167us/step - loss: 1.1192 - mean_absolute_error: 1.1192 - val_loss: 2.2304 - val_mean_absolute_error: 2.2304\n",
      "Epoch 118/200\n",
      "323/323 [==============================] - 0s 133us/step - loss: 0.9848 - mean_absolute_error: 0.9848 - val_loss: 1.9309 - val_mean_absolute_error: 1.9309\n",
      "Epoch 119/200\n",
      "323/323 [==============================] - 0s 152us/step - loss: 0.9064 - mean_absolute_error: 0.9064 - val_loss: 1.9622 - val_mean_absolute_error: 1.9622\n",
      "Epoch 120/200\n",
      "323/323 [==============================] - 0s 136us/step - loss: 0.7337 - mean_absolute_error: 0.7337 - val_loss: 1.9765 - val_mean_absolute_error: 1.9765\n",
      "Epoch 121/200\n",
      "323/323 [==============================] - 0s 179us/step - loss: 0.6252 - mean_absolute_error: 0.6252 - val_loss: 1.9017 - val_mean_absolute_error: 1.9017\n",
      "Epoch 122/200\n",
      "323/323 [==============================] - 0s 173us/step - loss: 0.6224 - mean_absolute_error: 0.6224 - val_loss: 2.1339 - val_mean_absolute_error: 2.1339\n",
      "Epoch 123/200\n",
      "323/323 [==============================] - 0s 168us/step - loss: 0.6958 - mean_absolute_error: 0.6958 - val_loss: 1.9900 - val_mean_absolute_error: 1.9900\n",
      "Epoch 124/200\n",
      "323/323 [==============================] - 0s 142us/step - loss: 0.8108 - mean_absolute_error: 0.8108 - val_loss: 1.9533 - val_mean_absolute_error: 1.9533\n",
      "Epoch 125/200\n",
      "323/323 [==============================] - 0s 151us/step - loss: 0.6798 - mean_absolute_error: 0.6798 - val_loss: 2.0047 - val_mean_absolute_error: 2.0047\n",
      "Epoch 126/200\n",
      "323/323 [==============================] - 0s 142us/step - loss: 0.7672 - mean_absolute_error: 0.7672 - val_loss: 1.8564 - val_mean_absolute_error: 1.8564\n",
      "Epoch 127/200\n",
      "323/323 [==============================] - 0s 167us/step - loss: 0.6990 - mean_absolute_error: 0.6990 - val_loss: 2.1604 - val_mean_absolute_error: 2.1604\n",
      "Epoch 128/200\n",
      "323/323 [==============================] - 0s 136us/step - loss: 0.6179 - mean_absolute_error: 0.6179 - val_loss: 1.8878 - val_mean_absolute_error: 1.8878\n",
      "Epoch 129/200\n",
      "323/323 [==============================] - 0s 163us/step - loss: 0.6021 - mean_absolute_error: 0.6021 - val_loss: 2.0353 - val_mean_absolute_error: 2.0353\n",
      "Epoch 130/200\n",
      "323/323 [==============================] - 0s 170us/step - loss: 0.6804 - mean_absolute_error: 0.6804 - val_loss: 2.0249 - val_mean_absolute_error: 2.0249\n",
      "Epoch 131/200\n",
      "323/323 [==============================] - 0s 105us/step - loss: 0.7747 - mean_absolute_error: 0.7747 - val_loss: 1.9801 - val_mean_absolute_error: 1.9801\n",
      "Epoch 132/200\n",
      "323/323 [==============================] - 0s 111us/step - loss: 0.7405 - mean_absolute_error: 0.7405 - val_loss: 2.1640 - val_mean_absolute_error: 2.1640\n",
      "Epoch 133/200\n",
      "323/323 [==============================] - 0s 111us/step - loss: 0.8380 - mean_absolute_error: 0.8380 - val_loss: 2.2665 - val_mean_absolute_error: 2.2665\n",
      "Epoch 134/200\n",
      "323/323 [==============================] - 0s 136us/step - loss: 0.9398 - mean_absolute_error: 0.9398 - val_loss: 2.2599 - val_mean_absolute_error: 2.2599\n",
      "Epoch 135/200\n",
      "323/323 [==============================] - 0s 111us/step - loss: 0.8846 - mean_absolute_error: 0.8846 - val_loss: 1.9955 - val_mean_absolute_error: 1.9955\n",
      "Epoch 136/200\n",
      "323/323 [==============================] - 0s 124us/step - loss: 0.7062 - mean_absolute_error: 0.7062 - val_loss: 2.0670 - val_mean_absolute_error: 2.0670\n",
      "Epoch 137/200\n",
      "323/323 [==============================] - 0s 105us/step - loss: 0.7043 - mean_absolute_error: 0.7043 - val_loss: 2.0080 - val_mean_absolute_error: 2.0080\n",
      "Epoch 138/200\n",
      "323/323 [==============================] - 0s 127us/step - loss: 0.7589 - mean_absolute_error: 0.7589 - val_loss: 1.9885 - val_mean_absolute_error: 1.9885\n",
      "Epoch 139/200\n",
      "323/323 [==============================] - 0s 111us/step - loss: 0.8054 - mean_absolute_error: 0.8054 - val_loss: 2.0374 - val_mean_absolute_error: 2.0374\n",
      "Epoch 140/200\n",
      "323/323 [==============================] - 0s 99us/step - loss: 0.8857 - mean_absolute_error: 0.8857 - val_loss: 2.0085 - val_mean_absolute_error: 2.0085\n",
      "Epoch 141/200\n",
      "323/323 [==============================] - 0s 117us/step - loss: 0.8363 - mean_absolute_error: 0.8363 - val_loss: 2.1200 - val_mean_absolute_error: 2.1200\n",
      "Epoch 142/200\n",
      "323/323 [==============================] - 0s 124us/step - loss: 0.7526 - mean_absolute_error: 0.7526 - val_loss: 2.0057 - val_mean_absolute_error: 2.0057\n",
      "Epoch 143/200\n",
      "323/323 [==============================] - 0s 117us/step - loss: 0.6520 - mean_absolute_error: 0.6520 - val_loss: 2.0277 - val_mean_absolute_error: 2.0277\n",
      "Epoch 144/200\n",
      "323/323 [==============================] - 0s 114us/step - loss: 0.5863 - mean_absolute_error: 0.5863 - val_loss: 2.0499 - val_mean_absolute_error: 2.0499\n",
      "Epoch 145/200\n",
      "323/323 [==============================] - 0s 145us/step - loss: 0.5547 - mean_absolute_error: 0.5547 - val_loss: 2.0552 - val_mean_absolute_error: 2.0552\n",
      "Epoch 146/200\n",
      "323/323 [==============================] - 0s 144us/step - loss: 0.6146 - mean_absolute_error: 0.6146 - val_loss: 2.1111 - val_mean_absolute_error: 2.1111\n",
      "Epoch 147/200\n"
     ]
    },
    {
     "name": "stdout",
     "output_type": "stream",
     "text": [
      "323/323 [==============================] - 0s 117us/step - loss: 0.6515 - mean_absolute_error: 0.6515 - val_loss: 1.9765 - val_mean_absolute_error: 1.9765\n",
      "Epoch 148/200\n",
      "323/323 [==============================] - 0s 86us/step - loss: 0.6255 - mean_absolute_error: 0.6255 - val_loss: 2.0835 - val_mean_absolute_error: 2.0835\n",
      "Epoch 149/200\n",
      "323/323 [==============================] - 0s 164us/step - loss: 0.5757 - mean_absolute_error: 0.5757 - val_loss: 1.9156 - val_mean_absolute_error: 1.9156\n",
      "Epoch 150/200\n",
      "323/323 [==============================] - 0s 127us/step - loss: 0.5000 - mean_absolute_error: 0.5000 - val_loss: 2.0578 - val_mean_absolute_error: 2.0578\n",
      "Epoch 151/200\n",
      "323/323 [==============================] - 0s 136us/step - loss: 0.5204 - mean_absolute_error: 0.5204 - val_loss: 1.9973 - val_mean_absolute_error: 1.9973\n",
      "Epoch 152/200\n",
      "323/323 [==============================] - 0s 111us/step - loss: 0.5698 - mean_absolute_error: 0.5698 - val_loss: 2.0142 - val_mean_absolute_error: 2.0142\n",
      "Epoch 153/200\n",
      "323/323 [==============================] - 0s 124us/step - loss: 0.5523 - mean_absolute_error: 0.5523 - val_loss: 2.0382 - val_mean_absolute_error: 2.0382\n",
      "Epoch 154/200\n",
      "323/323 [==============================] - ETA: 0s - loss: 0.5046 - mean_absolute_error: 0.504 - 0s 136us/step - loss: 0.5800 - mean_absolute_error: 0.5800 - val_loss: 1.9345 - val_mean_absolute_error: 1.9345\n",
      "Epoch 155/200\n",
      "323/323 [==============================] - 0s 145us/step - loss: 0.5882 - mean_absolute_error: 0.5882 - val_loss: 2.1289 - val_mean_absolute_error: 2.1289\n",
      "Epoch 156/200\n",
      "323/323 [==============================] - 0s 117us/step - loss: 0.7038 - mean_absolute_error: 0.7038 - val_loss: 2.0096 - val_mean_absolute_error: 2.0096\n",
      "Epoch 157/200\n",
      "323/323 [==============================] - 0s 117us/step - loss: 0.4928 - mean_absolute_error: 0.4928 - val_loss: 2.0453 - val_mean_absolute_error: 2.0453\n",
      "Epoch 158/200\n",
      "323/323 [==============================] - 0s 123us/step - loss: 0.6566 - mean_absolute_error: 0.6566 - val_loss: 1.9861 - val_mean_absolute_error: 1.9861\n",
      "Epoch 159/200\n",
      "323/323 [==============================] - 0s 120us/step - loss: 0.5613 - mean_absolute_error: 0.5613 - val_loss: 2.0687 - val_mean_absolute_error: 2.0687\n",
      "Epoch 160/200\n",
      "323/323 [==============================] - 0s 110us/step - loss: 0.5825 - mean_absolute_error: 0.5825 - val_loss: 1.9300 - val_mean_absolute_error: 1.9300\n",
      "Epoch 161/200\n",
      "323/323 [==============================] - 0s 139us/step - loss: 0.6472 - mean_absolute_error: 0.6472 - val_loss: 2.1546 - val_mean_absolute_error: 2.1546\n",
      "Epoch 162/200\n",
      "323/323 [==============================] - 0s 124us/step - loss: 0.6159 - mean_absolute_error: 0.6159 - val_loss: 2.0175 - val_mean_absolute_error: 2.0175\n",
      "Epoch 163/200\n",
      "323/323 [==============================] - 0s 123us/step - loss: 0.6902 - mean_absolute_error: 0.6902 - val_loss: 2.1161 - val_mean_absolute_error: 2.1161\n",
      "Epoch 164/200\n",
      "323/323 [==============================] - 0s 111us/step - loss: 0.6161 - mean_absolute_error: 0.6161 - val_loss: 1.9351 - val_mean_absolute_error: 1.9351\n",
      "Epoch 165/200\n",
      "323/323 [==============================] - 0s 133us/step - loss: 0.7103 - mean_absolute_error: 0.7103 - val_loss: 2.1364 - val_mean_absolute_error: 2.1364\n",
      "Epoch 166/200\n",
      "323/323 [==============================] - 0s 124us/step - loss: 0.6920 - mean_absolute_error: 0.6920 - val_loss: 2.0533 - val_mean_absolute_error: 2.0533\n",
      "Epoch 167/200\n",
      "323/323 [==============================] - 0s 111us/step - loss: 0.6714 - mean_absolute_error: 0.6714 - val_loss: 2.1244 - val_mean_absolute_error: 2.1244\n",
      "Epoch 168/200\n",
      "323/323 [==============================] - 0s 136us/step - loss: 0.7511 - mean_absolute_error: 0.7511 - val_loss: 2.1205 - val_mean_absolute_error: 2.1205\n",
      "Epoch 169/200\n",
      "323/323 [==============================] - 0s 114us/step - loss: 0.6761 - mean_absolute_error: 0.6761 - val_loss: 2.1023 - val_mean_absolute_error: 2.1023\n",
      "Epoch 170/200\n",
      "323/323 [==============================] - 0s 142us/step - loss: 0.7830 - mean_absolute_error: 0.7830 - val_loss: 2.0122 - val_mean_absolute_error: 2.0122\n",
      "Epoch 171/200\n",
      "323/323 [==============================] - 0s 139us/step - loss: 0.8656 - mean_absolute_error: 0.8656 - val_loss: 2.0409 - val_mean_absolute_error: 2.0409\n",
      "Epoch 172/200\n",
      "323/323 [==============================] - 0s 86us/step - loss: 0.6554 - mean_absolute_error: 0.6554 - val_loss: 2.1406 - val_mean_absolute_error: 2.1406\n",
      "Epoch 173/200\n",
      "323/323 [==============================] - 0s 117us/step - loss: 0.7170 - mean_absolute_error: 0.7170 - val_loss: 2.1189 - val_mean_absolute_error: 2.1189\n",
      "Epoch 174/200\n",
      "323/323 [==============================] - 0s 124us/step - loss: 0.6725 - mean_absolute_error: 0.6725 - val_loss: 1.9981 - val_mean_absolute_error: 1.9981\n",
      "Epoch 175/200\n",
      "323/323 [==============================] - 0s 111us/step - loss: 0.6002 - mean_absolute_error: 0.6002 - val_loss: 2.0235 - val_mean_absolute_error: 2.0235\n",
      "Epoch 176/200\n",
      "323/323 [==============================] - 0s 111us/step - loss: 0.6832 - mean_absolute_error: 0.6832 - val_loss: 1.9821 - val_mean_absolute_error: 1.9821\n",
      "Epoch 177/200\n",
      "323/323 [==============================] - 0s 133us/step - loss: 0.6529 - mean_absolute_error: 0.6529 - val_loss: 2.0654 - val_mean_absolute_error: 2.0654\n",
      "Epoch 178/200\n",
      "323/323 [==============================] - 0s 136us/step - loss: 0.5087 - mean_absolute_error: 0.5087 - val_loss: 2.0236 - val_mean_absolute_error: 2.0236\n",
      "Epoch 179/200\n",
      "323/323 [==============================] - 0s 176us/step - loss: 0.5379 - mean_absolute_error: 0.5379 - val_loss: 2.0272 - val_mean_absolute_error: 2.0272\n",
      "Epoch 180/200\n",
      "323/323 [==============================] - 0s 173us/step - loss: 0.5392 - mean_absolute_error: 0.5392 - val_loss: 2.0804 - val_mean_absolute_error: 2.0804\n",
      "Epoch 181/200\n",
      "323/323 [==============================] - 0s 154us/step - loss: 0.5282 - mean_absolute_error: 0.5282 - val_loss: 1.9466 - val_mean_absolute_error: 1.9466\n",
      "Epoch 182/200\n",
      "323/323 [==============================] - 0s 151us/step - loss: 0.5417 - mean_absolute_error: 0.5417 - val_loss: 1.9704 - val_mean_absolute_error: 1.9704\n",
      "Epoch 183/200\n",
      "323/323 [==============================] - 0s 142us/step - loss: 0.5288 - mean_absolute_error: 0.5288 - val_loss: 2.0910 - val_mean_absolute_error: 2.0910\n",
      "Epoch 184/200\n",
      "323/323 [==============================] - 0s 142us/step - loss: 0.5702 - mean_absolute_error: 0.5702 - val_loss: 2.0057 - val_mean_absolute_error: 2.0057\n",
      "Epoch 185/200\n",
      "323/323 [==============================] - 0s 127us/step - loss: 0.6124 - mean_absolute_error: 0.6124 - val_loss: 2.0467 - val_mean_absolute_error: 2.0467\n",
      "Epoch 186/200\n",
      "323/323 [==============================] - 0s 133us/step - loss: 0.6479 - mean_absolute_error: 0.6479 - val_loss: 2.0219 - val_mean_absolute_error: 2.0219\n",
      "Epoch 187/200\n",
      "323/323 [==============================] - 0s 133us/step - loss: 0.7042 - mean_absolute_error: 0.7042 - val_loss: 2.0493 - val_mean_absolute_error: 2.0493\n",
      "Epoch 188/200\n",
      "323/323 [==============================] - 0s 142us/step - loss: 0.7451 - mean_absolute_error: 0.7451 - val_loss: 2.0810 - val_mean_absolute_error: 2.0810\n",
      "Epoch 189/200\n",
      "323/323 [==============================] - 0s 145us/step - loss: 0.7075 - mean_absolute_error: 0.7075 - val_loss: 2.0029 - val_mean_absolute_error: 2.0029\n",
      "Epoch 190/200\n",
      "323/323 [==============================] - 0s 156us/step - loss: 0.5706 - mean_absolute_error: 0.5706 - val_loss: 2.0011 - val_mean_absolute_error: 2.0011\n",
      "Epoch 191/200\n",
      "323/323 [==============================] - 0s 142us/step - loss: 0.5142 - mean_absolute_error: 0.5142 - val_loss: 2.1020 - val_mean_absolute_error: 2.1020\n",
      "Epoch 192/200\n",
      "323/323 [==============================] - 0s 167us/step - loss: 0.6095 - mean_absolute_error: 0.6095 - val_loss: 2.0141 - val_mean_absolute_error: 2.0141\n",
      "Epoch 193/200\n",
      "323/323 [==============================] - 0s 154us/step - loss: 0.7039 - mean_absolute_error: 0.7039 - val_loss: 2.0244 - val_mean_absolute_error: 2.0244\n",
      "Epoch 194/200\n",
      "323/323 [==============================] - 0s 127us/step - loss: 0.7189 - mean_absolute_error: 0.7189 - val_loss: 2.0818 - val_mean_absolute_error: 2.0818\n",
      "Epoch 195/200\n"
     ]
    },
    {
     "name": "stdout",
     "output_type": "stream",
     "text": [
      "323/323 [==============================] - 0s 133us/step - loss: 0.7561 - mean_absolute_error: 0.7561 - val_loss: 1.9356 - val_mean_absolute_error: 1.9356\n",
      "Epoch 196/200\n",
      "323/323 [==============================] - 0s 151us/step - loss: 0.7535 - mean_absolute_error: 0.7535 - val_loss: 1.9928 - val_mean_absolute_error: 1.9928\n",
      "Epoch 197/200\n",
      "323/323 [==============================] - 0s 139us/step - loss: 0.7965 - mean_absolute_error: 0.7965 - val_loss: 2.1678 - val_mean_absolute_error: 2.1678\n",
      "Epoch 198/200\n",
      "323/323 [==============================] - 0s 139us/step - loss: 0.6773 - mean_absolute_error: 0.6773 - val_loss: 2.0641 - val_mean_absolute_error: 2.0641\n",
      "Epoch 199/200\n",
      "323/323 [==============================] - 0s 136us/step - loss: 0.5425 - mean_absolute_error: 0.5425 - val_loss: 2.1203 - val_mean_absolute_error: 2.1203\n",
      "Epoch 200/200\n",
      "323/323 [==============================] - 0s 176us/step - loss: 0.6086 - mean_absolute_error: 0.6086 - val_loss: 1.9558 - val_mean_absolute_error: 1.9558\n"
     ]
    }
   ],
   "source": [
    "model.fit(X_train,y_train,epochs=200,batch_size=50,validation_split=0.2)\n",
    "y_pred=model.predict(X_test)"
   ]
  },
  {
   "cell_type": "code",
   "execution_count": 53,
   "metadata": {},
   "outputs": [
    {
     "name": "stdout",
     "output_type": "stream",
     "text": [
      "329    22.6\n",
      "371    50.0\n",
      "219    23.0\n",
      "403     8.3\n",
      "78     21.2\n",
      "       ... \n",
      "56     24.7\n",
      "455    14.1\n",
      "60     18.7\n",
      "213    28.1\n",
      "108    19.8\n",
      "Name: MEDV, Length: 102, dtype: float64\n"
     ]
    },
    {
     "data": {
      "text/plain": [
       "array([[21.33612  ],\n",
       "       [28.754948 ],\n",
       "       [24.057434 ],\n",
       "       [ 9.561113 ],\n",
       "       [18.40374  ],\n",
       "       [19.933754 ],\n",
       "       [23.041004 ],\n",
       "       [18.84572  ],\n",
       "       [19.305538 ],\n",
       "       [23.555191 ],\n",
       "       [ 9.107792 ],\n",
       "       [10.43639  ],\n",
       "       [15.661044 ],\n",
       "       [ 6.9549627],\n",
       "       [38.921383 ],\n",
       "       [35.395554 ],\n",
       "       [23.801666 ],\n",
       "       [37.822536 ],\n",
       "       [28.700405 ],\n",
       "       [20.1389   ],\n",
       "       [22.812675 ],\n",
       "       [19.092175 ],\n",
       "       [19.58664  ],\n",
       "       [26.607613 ],\n",
       "       [21.10672  ],\n",
       "       [21.850582 ],\n",
       "       [17.067444 ],\n",
       "       [16.437256 ],\n",
       "       [40.604633 ],\n",
       "       [18.23742  ],\n",
       "       [14.472736 ],\n",
       "       [16.687588 ],\n",
       "       [18.912436 ],\n",
       "       [18.08379  ],\n",
       "       [29.879969 ],\n",
       "       [23.006344 ],\n",
       "       [ 9.013563 ],\n",
       "       [39.003487 ],\n",
       "       [13.015783 ],\n",
       "       [16.79739  ],\n",
       "       [23.312183 ],\n",
       "       [21.269516 ],\n",
       "       [17.791557 ],\n",
       "       [19.168285 ],\n",
       "       [20.864555 ],\n",
       "       [28.746515 ],\n",
       "       [19.682873 ],\n",
       "       [20.957172 ],\n",
       "       [18.13433  ],\n",
       "       [23.41902  ],\n",
       "       [21.800533 ],\n",
       "       [22.21333  ],\n",
       "       [23.226143 ],\n",
       "       [42.860268 ],\n",
       "       [14.358808 ],\n",
       "       [20.01939  ],\n",
       "       [17.575972 ],\n",
       "       [15.491352 ],\n",
       "       [16.974953 ],\n",
       "       [23.646996 ],\n",
       "       [19.040615 ],\n",
       "       [20.14056  ],\n",
       "       [35.667015 ],\n",
       "       [30.374334 ],\n",
       "       [21.965988 ],\n",
       "       [32.410313 ],\n",
       "       [17.14102  ],\n",
       "       [26.793007 ],\n",
       "       [11.2023115],\n",
       "       [21.770473 ],\n",
       "       [20.833965 ],\n",
       "       [20.898838 ],\n",
       "       [25.609035 ],\n",
       "       [27.493282 ],\n",
       "       [26.820274 ],\n",
       "       [ 5.9352922],\n",
       "       [51.441086 ],\n",
       "       [18.771093 ],\n",
       "       [24.619514 ],\n",
       "       [16.801685 ],\n",
       "       [23.266232 ],\n",
       "       [19.149376 ],\n",
       "       [15.007217 ],\n",
       "       [41.172173 ],\n",
       "       [44.615395 ],\n",
       "       [22.247147 ],\n",
       "       [23.4963   ],\n",
       "       [11.168561 ],\n",
       "       [27.840271 ],\n",
       "       [16.284111 ],\n",
       "       [15.744612 ],\n",
       "       [10.579672 ],\n",
       "       [20.693134 ],\n",
       "       [27.017296 ],\n",
       "       [19.873333 ],\n",
       "       [20.485083 ],\n",
       "       [11.329502 ],\n",
       "       [23.060585 ],\n",
       "       [15.581336 ],\n",
       "       [17.189514 ],\n",
       "       [21.922232 ],\n",
       "       [20.077831 ]], dtype=float32)"
      ]
     },
     "execution_count": 53,
     "metadata": {},
     "output_type": "execute_result"
    }
   ],
   "source": [
    "print(y_test)\n",
    "y_pred"
   ]
  },
  {
   "cell_type": "code",
   "execution_count": 54,
   "metadata": {},
   "outputs": [
    {
     "data": {
      "image/png": "[encoded data removed]",
      "text/plain": [
       "<Figure size 432x288 with 1 Axes>"
      ]
     },
     "metadata": {
      "needs_background": "light"
     },
     "output_type": "display_data"
    }
   ],
   "source": [
    "plt.plot(y_test, color = 'red', label = 'Real data')\n",
    "plt.plot(y_pred, color = 'blue', label = 'Predicted data')\n",
    "plt.title('Prediction')\n",
    "plt.legend()\n",
    "plt.show()\n"
   ]
  },
  {
   "cell_type": "code",
   "execution_count": 55,
   "metadata": {},
   "outputs": [
    {
     "data": {
      "text/plain": [
       "0.7345444432503523"
      ]
     },
     "execution_count": 55,
     "metadata": {},
     "output_type": "execute_result"
    }
   ],
   "source": [
    "from sklearn.metrics import r2_score\n",
    "rscore=r2_score(y_test,y_pred)\n",
    "rscore"
   ]
  },
  {
   "cell_type": "code",
   "execution_count": null,
   "metadata": {},
   "outputs": [],
   "source": []
  }
 ],
 "metadata": {
  "kernelspec": {
   "display_name": "Python 3",
   "language": "python",
   "name": "python3"
  },
  "language_info": {
   "codemirror_mode": {
    "name": "ipython",
    "version": 3
   },
   "file_extension": ".py",
   "mimetype": "text/x-python",
   "name": "python",
   "nbconvert_exporter": "python",
   "pygments_lexer": "ipython3",
   "version": "3.7.4"
  }
 },
 "nbformat": 4,
 "nbformat_minor": 4
}
