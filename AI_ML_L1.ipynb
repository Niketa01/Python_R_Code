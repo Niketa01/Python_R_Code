{
 "cells": [
  {
   "cell_type": "code",
   "execution_count": 21,
   "metadata": {},
   "outputs": [
    {
     "data": {
      "text/html": [
       "<div>\n",
       "<style scoped>\n",
       "    .dataframe tbody tr th:only-of-type {\n",
       "        vertical-align: middle;\n",
       "    }\n",
       "\n",
       "    .dataframe tbody tr th {\n",
       "        vertical-align: top;\n",
       "    }\n",
       "\n",
       "    .dataframe thead th {\n",
       "        text-align: right;\n",
       "    }\n",
       "</style>\n",
       "<table border=\"1\" class=\"dataframe\">\n",
       "  <thead>\n",
       "    <tr style=\"text-align: right;\">\n",
       "      <th></th>\n",
       "      <th>Emp#</th>\n",
       "      <th>YearsOfExp</th>\n",
       "      <th>Salary in Rs.</th>\n",
       "    </tr>\n",
       "  </thead>\n",
       "  <tbody>\n",
       "    <tr>\n",
       "      <td>0</td>\n",
       "      <td>1.0</td>\n",
       "      <td>10.0</td>\n",
       "      <td>126015.0</td>\n",
       "    </tr>\n",
       "    <tr>\n",
       "      <td>1</td>\n",
       "      <td>2.0</td>\n",
       "      <td>1.0</td>\n",
       "      <td>12598.0</td>\n",
       "    </tr>\n",
       "    <tr>\n",
       "      <td>2</td>\n",
       "      <td>3.0</td>\n",
       "      <td>8.0</td>\n",
       "      <td>100639.0</td>\n",
       "    </tr>\n",
       "    <tr>\n",
       "      <td>3</td>\n",
       "      <td>4.0</td>\n",
       "      <td>10.0</td>\n",
       "      <td>125351.0</td>\n",
       "    </tr>\n",
       "    <tr>\n",
       "      <td>4</td>\n",
       "      <td>5.0</td>\n",
       "      <td>2.0</td>\n",
       "      <td>25031.0</td>\n",
       "    </tr>\n",
       "  </tbody>\n",
       "</table>\n",
       "</div>"
      ],
      "text/plain": [
       "   Emp#  YearsOfExp  Salary in Rs.\n",
       "0   1.0        10.0       126015.0\n",
       "1   2.0         1.0        12598.0\n",
       "2   3.0         8.0       100639.0\n",
       "3   4.0        10.0       125351.0\n",
       "4   5.0         2.0        25031.0"
      ]
     },
     "execution_count": 21,
     "metadata": {},
     "output_type": "execute_result"
    }
   ],
   "source": [
    "import pandas as pd\n",
    "import numpy as np\n",
    "stats=pd.read_excel(r'C:\\Users\\Niketa Mittal\\Downloads\\Stats.xlsx')\n",
    "stats.head()"
   ]
  },
  {
   "cell_type": "code",
   "execution_count": 7,
   "metadata": {},
   "outputs": [
    {
     "data": {
      "text/plain": [
       "77821.2"
      ]
     },
     "execution_count": 7,
     "metadata": {},
     "output_type": "execute_result"
    }
   ],
   "source": [
    "#Applied Statistics\n",
    "#Ex1\n",
    "stats['Salary in Rs.'].mean()"
   ]
  },
  {
   "cell_type": "code",
   "execution_count": 8,
   "metadata": {},
   "outputs": [
    {
     "data": {
      "text/plain": [
       "87654.0"
      ]
     },
     "execution_count": 8,
     "metadata": {},
     "output_type": "execute_result"
    }
   ],
   "source": [
    "stats['Salary in Rs.'].median()"
   ]
  },
  {
   "cell_type": "code",
   "execution_count": 9,
   "metadata": {},
   "outputs": [
    {
     "data": {
      "text/plain": [
       "0    100639.0\n",
       "dtype: float64"
      ]
     },
     "execution_count": 9,
     "metadata": {},
     "output_type": "execute_result"
    }
   ],
   "source": [
    "stats['Salary in Rs.'].mode()"
   ]
  },
  {
   "cell_type": "code",
   "execution_count": 22,
   "metadata": {},
   "outputs": [
    {
     "data": {
      "text/plain": [
       "Emp#                 7.359801\n",
       "YearsOfExp           3.111270\n",
       "Salary in Rs.    39847.615281\n",
       "dtype: float64"
      ]
     },
     "execution_count": 22,
     "metadata": {},
     "output_type": "execute_result"
    }
   ],
   "source": [
    "#EX2\n",
    "#Standard Deviation\n",
    "stats.std()"
   ]
  },
  {
   "cell_type": "code",
   "execution_count": 23,
   "metadata": {},
   "outputs": [
    {
     "data": {
      "text/plain": [
       "Emp#             5.416667e+01\n",
       "YearsOfExp       9.680000e+00\n",
       "Salary in Rs.    1.587832e+09\n",
       "dtype: float64"
      ]
     },
     "execution_count": 23,
     "metadata": {},
     "output_type": "execute_result"
    }
   ],
   "source": [
    "#Variance\n",
    "stats.var()"
   ]
  },
  {
   "cell_type": "code",
   "execution_count": 5,
   "metadata": {},
   "outputs": [
    {
     "name": "stdout",
     "output_type": "stream",
     "text": [
      "*** Introductory Examples for the NLTK Book ***\n",
      "Loading text1, ..., text9 and sent1, ..., sent9\n",
      "Type the name of the text or sentence to view it.\n",
      "Type: 'texts()' or 'sents()' to list the materials.\n",
      "text1: Moby Dick by Herman Melville 1851\n",
      "text2: Sense and Sensibility by Jane Austen 1811\n",
      "text3: The Book of Genesis\n",
      "text4: Inaugural Address Corpus\n",
      "text5: Chat Corpus\n",
      "text6: Monty Python and the Holy Grail\n",
      "text7: Wall Street Journal\n",
      "text8: Personals Corpus\n",
      "text9: The Man Who Was Thursday by G . K . Chesterton 1908\n"
     ]
    }
   ],
   "source": [
    "import nltk\n",
    "#nltk.download()\n",
    "from nltk.book import *"
   ]
  },
  {
   "cell_type": "code",
   "execution_count": 59,
   "metadata": {},
   "outputs": [
    {
     "name": "stdout",
     "output_type": "stream",
     "text": [
      "['\"Hello there, how are you?', 'Weather is awesome.', 'Its raining here now.\"']\n",
      "['\"Hello Mr. Raja, how are you?', 'Weather is awesome.', 'Its raining here now.\"']\n",
      "['\"Hello Mr. Raja, how are you.', 'Weather is bad.', 'Its heavily raining here now.\"']\n",
      "['\"NLP is great technique.', 'It is nice to learn this technique.\"']\n",
      "['\"AI is making difference in this world now.', 'It would be helpful for betterment of human life.', 'We need to make advantage of that.\"']\n"
     ]
    }
   ],
   "source": [
    "#Natural Language Processing\n",
    "#EX1\n",
    "#Sentence Tokenize\n",
    "from nltk.tokenize import sent_tokenize\n",
    "import pandas as pd\n",
    "din=pd.read_excel(r'C:\\Users\\Niketa Mittal\\Downloads\\data_in.xlsx',header=[0])\n",
    "din.head()\n",
    "sent_tokenized=[]\n",
    "for index,line in din.iterrows():\n",
    "      sentence=sent_tokenize(str(line['Comment']))\n",
    "      sent_tokenized.append(str(sentence)[1:-1])  \n",
    "      print(sentence)\n",
    "output=pd.DataFrame({'Sentence_tokenized':sent_tokenized})\n",
    "output=output['Sentence_tokenized']\n",
    "output.to_excel(r'C:\\Users\\Niketa Mittal\\Downloads\\data_out.xlsx',index='false')"
   ]
  },
  {
   "cell_type": "code",
   "execution_count": 2,
   "metadata": {},
   "outputs": [
    {
     "data": {
      "text/html": [
       "<div>\n",
       "<style scoped>\n",
       "    .dataframe tbody tr th:only-of-type {\n",
       "        vertical-align: middle;\n",
       "    }\n",
       "\n",
       "    .dataframe tbody tr th {\n",
       "        vertical-align: top;\n",
       "    }\n",
       "\n",
       "    .dataframe thead th {\n",
       "        text-align: right;\n",
       "    }\n",
       "</style>\n",
       "<table border=\"1\" class=\"dataframe\">\n",
       "  <thead>\n",
       "    <tr style=\"text-align: right;\">\n",
       "      <th></th>\n",
       "      <th>Comment</th>\n",
       "    </tr>\n",
       "  </thead>\n",
       "  <tbody>\n",
       "    <tr>\n",
       "      <td>0</td>\n",
       "      <td>\"Hello there, how are you? Weather is awesome....</td>\n",
       "    </tr>\n",
       "    <tr>\n",
       "      <td>1</td>\n",
       "      <td>\"Hello Mr. Raja, how are you? Weather is aweso...</td>\n",
       "    </tr>\n",
       "    <tr>\n",
       "      <td>2</td>\n",
       "      <td>\"Hello Mr. Raja, how are you. Weather is bad. ...</td>\n",
       "    </tr>\n",
       "    <tr>\n",
       "      <td>3</td>\n",
       "      <td>\"NLP is great technique. It is nice to learn t...</td>\n",
       "    </tr>\n",
       "    <tr>\n",
       "      <td>4</td>\n",
       "      <td>\"AI is making difference in this world now.  I...</td>\n",
       "    </tr>\n",
       "  </tbody>\n",
       "</table>\n",
       "</div>"
      ],
      "text/plain": [
       "                                             Comment\n",
       "0  \"Hello there, how are you? Weather is awesome....\n",
       "1  \"Hello Mr. Raja, how are you? Weather is aweso...\n",
       "2  \"Hello Mr. Raja, how are you. Weather is bad. ...\n",
       "3  \"NLP is great technique. It is nice to learn t...\n",
       "4  \"AI is making difference in this world now.  I..."
      ]
     },
     "execution_count": 2,
     "metadata": {},
     "output_type": "execute_result"
    }
   ],
   "source": [
    "#NE Chunking\n",
    "import pandas as pd\n",
    "from nltk.tag import pos_tag\n",
    "from nltk.chunk import ne_chunk\n",
    "from nltk.tokenize import *\n",
    "din=pd.read_excel(r'C:\\Users\\Niketa Mittal\\Downloads\\data_in.xlsx',header=[0])\n",
    "din.head()"
   ]
  },
  {
   "cell_type": "code",
   "execution_count": 3,
   "metadata": {},
   "outputs": [
    {
     "name": "stdout",
     "output_type": "stream",
     "text": [
      "(S ``/`` Hello/NNP there/RB ,/, how/WRB are/VBP you/PRP ?/.)\n",
      "(S (GPE Weather/NNP) is/VBZ awesome/JJ ./.)\n",
      "(S Its/PRP$ raining/VBG here/RB now/RB ./. ''/'')\n",
      "(S\n",
      "  ``/``\n",
      "  (PERSON Hello/NNP Mr./NNP Raja/NNP)\n",
      "  ,/,\n",
      "  how/WRB\n",
      "  are/VBP\n",
      "  you/PRP\n",
      "  ?/.)\n",
      "(S (GPE Weather/NNP) is/VBZ awesome/JJ ./.)\n",
      "(S Its/PRP$ raining/VBG here/RB now/RB ./. ''/'')\n",
      "(S\n",
      "  ``/``\n",
      "  (PERSON Hello/NNP Mr./NNP Raja/NNP)\n",
      "  ,/,\n",
      "  how/WRB\n",
      "  are/VBP\n",
      "  you/PRP\n",
      "  ./.)\n",
      "(S (GPE Weather/NNP) is/VBZ bad/JJ ./.)\n",
      "(S Its/PRP$ heavily/RB raining/VBG here/RB now/RB ./. ''/'')\n",
      "(S ``/`` (ORGANIZATION NLP/NNP) is/VBZ great/JJ technique/NN ./.)\n",
      "(S\n",
      "  It/PRP\n",
      "  is/VBZ\n",
      "  nice/JJ\n",
      "  to/TO\n",
      "  learn/VB\n",
      "  this/DT\n",
      "  technique/NN\n",
      "  ./.\n",
      "  ''/'')\n",
      "(S\n",
      "  ``/``\n",
      "  AI/NNP\n",
      "  is/VBZ\n",
      "  making/VBG\n",
      "  difference/NN\n",
      "  in/IN\n",
      "  this/DT\n",
      "  world/NN\n",
      "  now/RB\n",
      "  ./.)\n",
      "(S\n",
      "  It/PRP\n",
      "  would/MD\n",
      "  be/VB\n",
      "  helpful/JJ\n",
      "  for/IN\n",
      "  betterment/NN\n",
      "  of/IN\n",
      "  human/JJ\n",
      "  life/NN\n",
      "  ./.)\n",
      "(S\n",
      "  We/PRP\n",
      "  need/VBP\n",
      "  to/TO\n",
      "  make/VB\n",
      "  advantage/NN\n",
      "  of/IN\n",
      "  that/DT\n",
      "  ./.\n",
      "  ''/'')\n"
     ]
    }
   ],
   "source": [
    "sent_tokenized=[]\n",
    "word_tokenized=[]\n",
    "for index,line in din.iterrows():\n",
    "        sentence=sent_tokenize(str(line['Comment']))\n",
    "        for sent in sentence:\n",
    "            words=word_tokenize(sent)\n",
    "            pos_tagged=pos_tag(words)\n",
    "            ne_chunks=ne_chunk(pos_tagged)\n",
    "            print(ne_chunks)\n",
    "            ne_chunks.draw()"
   ]
  },
  {
   "cell_type": "code",
   "execution_count": 4,
   "metadata": {},
   "outputs": [
    {
     "data": {
      "text/html": [
       "<div>\n",
       "<style scoped>\n",
       "    .dataframe tbody tr th:only-of-type {\n",
       "        vertical-align: middle;\n",
       "    }\n",
       "\n",
       "    .dataframe tbody tr th {\n",
       "        vertical-align: top;\n",
       "    }\n",
       "\n",
       "    .dataframe thead th {\n",
       "        text-align: right;\n",
       "    }\n",
       "</style>\n",
       "<table border=\"1\" class=\"dataframe\">\n",
       "  <thead>\n",
       "    <tr style=\"text-align: right;\">\n",
       "      <th></th>\n",
       "      <th>Comment</th>\n",
       "    </tr>\n",
       "  </thead>\n",
       "  <tbody>\n",
       "    <tr>\n",
       "      <td>0</td>\n",
       "      <td>\"Hello there, how are you? Weather is awesome....</td>\n",
       "    </tr>\n",
       "    <tr>\n",
       "      <td>1</td>\n",
       "      <td>\"Hello Mr. Raja, how are you? Weather is aweso...</td>\n",
       "    </tr>\n",
       "    <tr>\n",
       "      <td>2</td>\n",
       "      <td>\"Hello Mr. Raja, how are you. Weather is bad. ...</td>\n",
       "    </tr>\n",
       "    <tr>\n",
       "      <td>3</td>\n",
       "      <td>\"NLP is great technique. It is nice to learn t...</td>\n",
       "    </tr>\n",
       "    <tr>\n",
       "      <td>4</td>\n",
       "      <td>\"AI is making difference in this world now.  I...</td>\n",
       "    </tr>\n",
       "  </tbody>\n",
       "</table>\n",
       "</div>"
      ],
      "text/plain": [
       "                                             Comment\n",
       "0  \"Hello there, how are you? Weather is awesome....\n",
       "1  \"Hello Mr. Raja, how are you? Weather is aweso...\n",
       "2  \"Hello Mr. Raja, how are you. Weather is bad. ...\n",
       "3  \"NLP is great technique. It is nice to learn t...\n",
       "4  \"AI is making difference in this world now.  I..."
      ]
     },
     "execution_count": 4,
     "metadata": {},
     "output_type": "execute_result"
    }
   ],
   "source": [
    "#EX2\n",
    "#Word Tokenize\n",
    "import pandas as pd\n",
    "from nltk.tokenize import word_tokenize\n",
    "from nltk.tokenize import sent_tokenize\n",
    "din=pd.read_excel(r'C:\\Users\\Niketa Mittal\\Downloads\\data_in.xlsx',header=[0])\n",
    "din.head()"
   ]
  },
  {
   "cell_type": "code",
   "execution_count": 6,
   "metadata": {},
   "outputs": [],
   "source": [
    "words_tokenized=[]\n",
    "for index,line in din.iterrows():\n",
    "        sentence=sent_tokenize(str(line['Comment']))\n",
    "        curr_words=[]\n",
    "        for sents in sentence:\n",
    "            words=word_tokenize(sents)\n",
    "            curr_words.append(str(words)[1:-1])\n",
    "        words_tokenized.append(str(curr_words)[1:-1])\n",
    "output=pd.DataFrame({'Words_Tokenized':words_tokenized})\n",
    "output=output['Words_Tokenized']\n",
    "output.to_excel(r'C:\\Users\\Niketa Mittal\\Downloads\\data_out1.xlsx',index='false')"
   ]
  },
  {
   "cell_type": "code",
   "execution_count": 18,
   "metadata": {},
   "outputs": [
    {
     "data": {
      "text/html": [
       "<div>\n",
       "<style scoped>\n",
       "    .dataframe tbody tr th:only-of-type {\n",
       "        vertical-align: middle;\n",
       "    }\n",
       "\n",
       "    .dataframe tbody tr th {\n",
       "        vertical-align: top;\n",
       "    }\n",
       "\n",
       "    .dataframe thead th {\n",
       "        text-align: right;\n",
       "    }\n",
       "</style>\n",
       "<table border=\"1\" class=\"dataframe\">\n",
       "  <thead>\n",
       "    <tr style=\"text-align: right;\">\n",
       "      <th></th>\n",
       "      <th>0</th>\n",
       "    </tr>\n",
       "  </thead>\n",
       "  <tbody>\n",
       "    <tr>\n",
       "      <td>0</td>\n",
       "      <td>Hello there, how are you? Weather is awesome. ...</td>\n",
       "    </tr>\n",
       "    <tr>\n",
       "      <td>1</td>\n",
       "      <td>Hello Mr. Raja, how are you? Weather is awesom...</td>\n",
       "    </tr>\n",
       "    <tr>\n",
       "      <td>2</td>\n",
       "      <td>Hello Mr. Raja, how are you. Weather is bad. I...</td>\n",
       "    </tr>\n",
       "    <tr>\n",
       "      <td>3</td>\n",
       "      <td>NLP is great technique. It is nice to learn th...</td>\n",
       "    </tr>\n",
       "    <tr>\n",
       "      <td>4</td>\n",
       "      <td>AI is making difference in this world now.  It...</td>\n",
       "    </tr>\n",
       "  </tbody>\n",
       "</table>\n",
       "</div>"
      ],
      "text/plain": [
       "                                                   0\n",
       "0  Hello there, how are you? Weather is awesome. ...\n",
       "1  Hello Mr. Raja, how are you? Weather is awesom...\n",
       "2  Hello Mr. Raja, how are you. Weather is bad. I...\n",
       "3  NLP is great technique. It is nice to learn th...\n",
       "4  AI is making difference in this world now.  It..."
      ]
     },
     "execution_count": 18,
     "metadata": {},
     "output_type": "execute_result"
    }
   ],
   "source": [
    "#EX3: POS-Tagging\n",
    "import pandas as pd\n",
    "from nltk.tokenize import *\n",
    "from nltk.tag import pos_tag\n",
    "from nltk.chunk import ne_chunk\n",
    "#din=pd.read_fwf(r'C:\\Users\\Niketa Mittal\\Downloads\\data.txt',header=None)\n",
    "din=pd.read_csv(r'C:\\Users\\Niketa Mittal\\Downloads\\data.txt', delimiter=\"\\t\", header=None)\n",
    "din.head()"
   ]
  },
  {
   "cell_type": "code",
   "execution_count": 19,
   "metadata": {},
   "outputs": [
    {
     "name": "stdout",
     "output_type": "stream",
     "text": [
      "[('0', 'CD'), ('Hello', 'NNP'), ('there', 'RB'), (',', ','), ('how', 'WRB'), ('are', 'VBP'), ('you', 'PRP'), ('?', '.')]\n",
      "[('Weather', 'NNP'), ('is', 'VBZ'), ('awesome', 'JJ'), ('.', '.')]\n",
      "[('...', ':'), ('Name', 'NN'), (':', ':'), ('0', 'CD'), (',', ','), ('dtype', 'NN'), (':', ':'), ('object', 'NN')]\n",
      "[('0', 'CD'), ('Hello', 'NNP'), ('Mr.', 'NNP'), ('Raja', 'NNP'), (',', ','), ('how', 'WRB'), ('are', 'VBP'), ('you', 'PRP'), ('?', '.')]\n",
      "[('Weather', 'NNP'), ('is', 'VBZ'), ('awesom', 'JJ'), ('...', ':'), ('Name', 'NN'), (':', ':'), ('1', 'CD'), (',', ','), ('dtype', 'NN'), (':', ':'), ('object', 'NN')]\n",
      "[('0', 'CD'), ('Hello', 'NNP'), ('Mr.', 'NNP'), ('Raja', 'NNP'), (',', ','), ('how', 'WRB'), ('are', 'VBP'), ('you', 'PRP'), ('.', '.')]\n",
      "[('Weather', 'NNP'), ('is', 'VBZ'), ('bad', 'JJ'), ('.', '.')]\n",
      "[('I', 'PRP'), ('...', ':'), ('Name', 'NN'), (':', ':'), ('2', 'CD'), (',', ','), ('dtype', 'NN'), (':', ':'), ('object', 'NN')]\n",
      "[('0', 'CD'), ('NLP', 'NNP'), ('is', 'VBZ'), ('great', 'JJ'), ('technique', 'NN'), ('.', '.')]\n",
      "[('It', 'PRP'), ('is', 'VBZ'), ('nice', 'JJ'), ('to', 'TO'), ('learn', 'VB'), ('th', 'NN'), ('...', ':'), ('Name', 'NN'), (':', ':'), ('3', 'CD'), (',', ','), ('dtype', 'NN'), (':', ':'), ('object', 'NN')]\n",
      "[('0', 'CD'), ('AI', 'NNP'), ('is', 'VBZ'), ('making', 'VBG'), ('difference', 'NN'), ('in', 'IN'), ('this', 'DT'), ('world', 'NN'), ('now', 'RB'), ('.', '.')]\n",
      "[('It', 'PRP'), ('...', ':'), ('Name', 'NN'), (':', ':'), ('4', 'CD'), (',', ','), ('dtype', 'NN'), (':', ':'), ('object', 'NN')]\n"
     ]
    }
   ],
   "source": [
    "for index,line in din.iterrows():\n",
    "    sentence=sent_tokenize(str(line))\n",
    "    for sents in sentence:\n",
    "        words=word_tokenize(sents)\n",
    "        #print(words)\n",
    "        pos_tagged=pos_tag(words)\n",
    "        print(pos_tagged)\n",
    "        chunks=ne_chunk(pos_tagged)\n",
    "        chunks.draw()"
   ]
  },
  {
   "cell_type": "code",
   "execution_count": 10,
   "metadata": {},
   "outputs": [
    {
     "name": "stdout",
     "output_type": "stream",
     "text": [
      "PorterStem: 0\n",
      "SnowballStem: 0\n",
      "Lemmatizer: 0\n",
      "PorterStem: hello\n",
      "SnowballStem: hello\n",
      "Lemmatizer: Hello\n",
      "PorterStem: there\n",
      "SnowballStem: there\n",
      "Lemmatizer: there\n",
      "PorterStem: ,\n",
      "SnowballStem: ,\n",
      "Lemmatizer: ,\n",
      "PorterStem: how\n",
      "SnowballStem: how\n",
      "Lemmatizer: how\n",
      "PorterStem: are\n",
      "SnowballStem: are\n",
      "Lemmatizer: are\n",
      "PorterStem: you\n",
      "SnowballStem: you\n",
      "Lemmatizer: you\n",
      "PorterStem: ?\n",
      "SnowballStem: ?\n",
      "Lemmatizer: ?\n",
      "PorterStem: weather\n",
      "SnowballStem: weather\n",
      "Lemmatizer: Weather\n",
      "PorterStem: is\n",
      "SnowballStem: is\n",
      "Lemmatizer: is\n",
      "PorterStem: awesom\n",
      "SnowballStem: awesom\n",
      "Lemmatizer: awesome\n",
      "PorterStem: .\n",
      "SnowballStem: .\n",
      "Lemmatizer: .\n",
      "PorterStem: ...\n",
      "SnowballStem: ...\n",
      "Lemmatizer: ...\n",
      "PorterStem: name\n",
      "SnowballStem: name\n",
      "Lemmatizer: Name\n",
      "PorterStem: :\n",
      "SnowballStem: :\n",
      "Lemmatizer: :\n",
      "PorterStem: 0\n",
      "SnowballStem: 0\n",
      "Lemmatizer: 0\n",
      "PorterStem: ,\n",
      "SnowballStem: ,\n",
      "Lemmatizer: ,\n",
      "PorterStem: dtype\n",
      "SnowballStem: dtype\n",
      "Lemmatizer: dtype\n",
      "PorterStem: :\n",
      "SnowballStem: :\n",
      "Lemmatizer: :\n",
      "PorterStem: object\n",
      "SnowballStem: object\n",
      "Lemmatizer: object\n",
      "PorterStem: 0\n",
      "SnowballStem: 0\n",
      "Lemmatizer: 0\n",
      "PorterStem: hello\n",
      "SnowballStem: hello\n",
      "Lemmatizer: Hello\n",
      "PorterStem: mr.\n",
      "SnowballStem: mr.\n",
      "Lemmatizer: Mr.\n",
      "PorterStem: raja\n",
      "SnowballStem: raja\n",
      "Lemmatizer: Raja\n",
      "PorterStem: ,\n",
      "SnowballStem: ,\n",
      "Lemmatizer: ,\n",
      "PorterStem: how\n",
      "SnowballStem: how\n",
      "Lemmatizer: how\n",
      "PorterStem: are\n",
      "SnowballStem: are\n",
      "Lemmatizer: are\n",
      "PorterStem: you\n",
      "SnowballStem: you\n",
      "Lemmatizer: you\n",
      "PorterStem: ?\n",
      "SnowballStem: ?\n",
      "Lemmatizer: ?\n",
      "PorterStem: weather\n",
      "SnowballStem: weather\n",
      "Lemmatizer: Weather\n",
      "PorterStem: is\n",
      "SnowballStem: is\n",
      "Lemmatizer: is\n",
      "PorterStem: awesom\n",
      "SnowballStem: awesom\n",
      "Lemmatizer: awesom\n",
      "PorterStem: ...\n",
      "SnowballStem: ...\n",
      "Lemmatizer: ...\n",
      "PorterStem: name\n",
      "SnowballStem: name\n",
      "Lemmatizer: Name\n",
      "PorterStem: :\n",
      "SnowballStem: :\n",
      "Lemmatizer: :\n",
      "PorterStem: 1\n",
      "SnowballStem: 1\n",
      "Lemmatizer: 1\n",
      "PorterStem: ,\n",
      "SnowballStem: ,\n",
      "Lemmatizer: ,\n",
      "PorterStem: dtype\n",
      "SnowballStem: dtype\n",
      "Lemmatizer: dtype\n",
      "PorterStem: :\n",
      "SnowballStem: :\n",
      "Lemmatizer: :\n",
      "PorterStem: object\n",
      "SnowballStem: object\n",
      "Lemmatizer: object\n",
      "PorterStem: 0\n",
      "SnowballStem: 0\n",
      "Lemmatizer: 0\n",
      "PorterStem: hello\n",
      "SnowballStem: hello\n",
      "Lemmatizer: Hello\n",
      "PorterStem: mr.\n",
      "SnowballStem: mr.\n",
      "Lemmatizer: Mr.\n",
      "PorterStem: raja\n",
      "SnowballStem: raja\n",
      "Lemmatizer: Raja\n",
      "PorterStem: ,\n",
      "SnowballStem: ,\n",
      "Lemmatizer: ,\n",
      "PorterStem: how\n",
      "SnowballStem: how\n",
      "Lemmatizer: how\n",
      "PorterStem: are\n",
      "SnowballStem: are\n",
      "Lemmatizer: are\n",
      "PorterStem: you\n",
      "SnowballStem: you\n",
      "Lemmatizer: you\n",
      "PorterStem: .\n",
      "SnowballStem: .\n",
      "Lemmatizer: .\n",
      "PorterStem: weather\n",
      "SnowballStem: weather\n",
      "Lemmatizer: Weather\n",
      "PorterStem: is\n",
      "SnowballStem: is\n",
      "Lemmatizer: is\n",
      "PorterStem: bad\n",
      "SnowballStem: bad\n",
      "Lemmatizer: bad\n",
      "PorterStem: .\n",
      "SnowballStem: .\n",
      "Lemmatizer: .\n",
      "PorterStem: I\n",
      "SnowballStem: i\n",
      "Lemmatizer: I\n",
      "PorterStem: ...\n",
      "SnowballStem: ...\n",
      "Lemmatizer: ...\n",
      "PorterStem: name\n",
      "SnowballStem: name\n",
      "Lemmatizer: Name\n",
      "PorterStem: :\n",
      "SnowballStem: :\n",
      "Lemmatizer: :\n",
      "PorterStem: 2\n",
      "SnowballStem: 2\n",
      "Lemmatizer: 2\n",
      "PorterStem: ,\n",
      "SnowballStem: ,\n",
      "Lemmatizer: ,\n",
      "PorterStem: dtype\n",
      "SnowballStem: dtype\n",
      "Lemmatizer: dtype\n",
      "PorterStem: :\n",
      "SnowballStem: :\n",
      "Lemmatizer: :\n",
      "PorterStem: object\n",
      "SnowballStem: object\n",
      "Lemmatizer: object\n",
      "PorterStem: 0\n",
      "SnowballStem: 0\n",
      "Lemmatizer: 0\n",
      "PorterStem: nlp\n",
      "SnowballStem: nlp\n",
      "Lemmatizer: NLP\n",
      "PorterStem: is\n",
      "SnowballStem: is\n",
      "Lemmatizer: is\n",
      "PorterStem: great\n",
      "SnowballStem: great\n",
      "Lemmatizer: great\n",
      "PorterStem: techniqu\n",
      "SnowballStem: techniqu\n",
      "Lemmatizer: technique\n",
      "PorterStem: .\n",
      "SnowballStem: .\n",
      "Lemmatizer: .\n",
      "PorterStem: It\n",
      "SnowballStem: it\n",
      "Lemmatizer: It\n",
      "PorterStem: is\n",
      "SnowballStem: is\n",
      "Lemmatizer: is\n",
      "PorterStem: nice\n",
      "SnowballStem: nice\n",
      "Lemmatizer: nice\n",
      "PorterStem: to\n",
      "SnowballStem: to\n",
      "Lemmatizer: to\n",
      "PorterStem: learn\n",
      "SnowballStem: learn\n",
      "Lemmatizer: learn\n",
      "PorterStem: th\n",
      "SnowballStem: th\n",
      "Lemmatizer: th\n",
      "PorterStem: ...\n",
      "SnowballStem: ...\n",
      "Lemmatizer: ...\n",
      "PorterStem: name\n",
      "SnowballStem: name\n",
      "Lemmatizer: Name\n",
      "PorterStem: :\n",
      "SnowballStem: :\n",
      "Lemmatizer: :\n",
      "PorterStem: 3\n",
      "SnowballStem: 3\n",
      "Lemmatizer: 3\n",
      "PorterStem: ,\n",
      "SnowballStem: ,\n",
      "Lemmatizer: ,\n",
      "PorterStem: dtype\n",
      "SnowballStem: dtype\n",
      "Lemmatizer: dtype\n",
      "PorterStem: :\n",
      "SnowballStem: :\n",
      "Lemmatizer: :\n",
      "PorterStem: object\n",
      "SnowballStem: object\n",
      "Lemmatizer: object\n",
      "PorterStem: 0\n",
      "SnowballStem: 0\n",
      "Lemmatizer: 0\n",
      "PorterStem: AI\n",
      "SnowballStem: ai\n",
      "Lemmatizer: AI\n",
      "PorterStem: is\n",
      "SnowballStem: is\n",
      "Lemmatizer: is\n",
      "PorterStem: make\n",
      "SnowballStem: make\n",
      "Lemmatizer: making\n",
      "PorterStem: differ\n",
      "SnowballStem: differ\n",
      "Lemmatizer: difference\n",
      "PorterStem: in\n",
      "SnowballStem: in\n",
      "Lemmatizer: in\n",
      "PorterStem: thi\n",
      "SnowballStem: this\n",
      "Lemmatizer: this\n",
      "PorterStem: world\n",
      "SnowballStem: world\n",
      "Lemmatizer: world\n",
      "PorterStem: now\n",
      "SnowballStem: now\n",
      "Lemmatizer: now\n",
      "PorterStem: .\n",
      "SnowballStem: .\n",
      "Lemmatizer: .\n",
      "PorterStem: It\n",
      "SnowballStem: it\n",
      "Lemmatizer: It\n",
      "PorterStem: ...\n",
      "SnowballStem: ...\n",
      "Lemmatizer: ...\n",
      "PorterStem: name\n",
      "SnowballStem: name\n",
      "Lemmatizer: Name\n",
      "PorterStem: :\n",
      "SnowballStem: :\n",
      "Lemmatizer: :\n",
      "PorterStem: 4\n",
      "SnowballStem: 4\n",
      "Lemmatizer: 4\n",
      "PorterStem: ,\n",
      "SnowballStem: ,\n",
      "Lemmatizer: ,\n",
      "PorterStem: dtype\n",
      "SnowballStem: dtype\n",
      "Lemmatizer: dtype\n",
      "PorterStem: :\n",
      "SnowballStem: :\n",
      "Lemmatizer: :\n",
      "PorterStem: object\n",
      "SnowballStem: object\n",
      "Lemmatizer: object\n"
     ]
    }
   ],
   "source": [
    "#EX4 Stemming and Lemmatization\n",
    "#PorterStemmer,SnowballStemmer, Lemmatizer\n",
    "from nltk.stem import PorterStemmer\n",
    "from nltk.stem import SnowballStemmer\n",
    "from nltk import stem\n",
    "import pandas as pd\n",
    "from nltk.tokenize import *\n",
    "din=pd.read_csv(r'C:\\Users\\Niketa Mittal\\Downloads\\data.txt', delimiter='\\t', header=None)\n",
    "din.head()\n",
    "lm=stem.WordNetLemmatizer()\n",
    "ps=PorterStemmer()\n",
    "ss=SnowballStemmer('english')\n",
    "for index,line in din.iterrows():\n",
    "    sentence=sent_tokenize(str(line))\n",
    "    for sents in sentence:\n",
    "        words=word_tokenize(sents)\n",
    "        for word in words:\n",
    "            print('PorterStem:',ps.stem(word))\n",
    "            print('SnowballStem:',ss.stem(word))\n",
    "            print('Lemmatizer:',lm.lemmatize(word))"
   ]
  },
  {
   "cell_type": "code",
   "execution_count": 27,
   "metadata": {},
   "outputs": [
    {
     "name": "stdout",
     "output_type": "stream",
     "text": [
      "0 0    hate\n",
      "1      -1\n",
      "Name: 0, dtype: object\n",
      "1 0    hatred\n",
      "1        -2\n",
      "Name: 1, dtype: object\n",
      "2 0    annoyed\n",
      "1         -2\n",
      "Name: 2, dtype: object\n",
      "3 0    annoy\n",
      "1       -1\n",
      "Name: 3, dtype: object\n",
      "4 0    annoyingly\n",
      "1            -3\n",
      "Name: 4, dtype: object\n",
      "5 0    nasty\n",
      "1       -4\n",
      "Name: 5, dtype: object\n",
      "6 0    nice\n",
      "1       1\n",
      "Name: 6, dtype: object\n",
      "7 0    excellent\n",
      "1            4\n",
      "Name: 7, dtype: object\n",
      "8 0    good\n",
      "1       3\n",
      "Name: 8, dtype: object\n",
      "9 0    wonderful\n",
      "1            4\n",
      "Name: 9, dtype: object\n",
      "10 0    best\n",
      "1       5\n",
      "Name: 10, dtype: object\n",
      "11 0    better\n",
      "1         2\n",
      "Name: 11, dtype: object\n",
      "12 0    awesome\n",
      "1          3\n",
      "Name: 12, dtype: object\n",
      "13 0    beautiful\n",
      "1            3\n",
      "Name: 13, dtype: object\n",
      "14 0    beauty\n",
      "1         2\n",
      "Name: 14, dtype: object\n",
      "15 0    beautifully\n",
      "1              4\n",
      "Name: 15, dtype: object\n",
      "16 0    supreme\n",
      "1          4\n",
      "Name: 16, dtype: object\n"
     ]
    }
   ],
   "source": [
    "#NegOrPosSentiment\n",
    "senti_dict = {}\n",
    "import pandas as pd\n",
    "din=pd.read_csv(r'C:\\Users\\Niketa Mittal\\Downloads\\senti.txt', delimiter='\\t', header=None)\n",
    "din.head()\n",
    "for index,line in din.iterrows():\n",
    "   # word,score = str(line).split('\\t')\n",
    "    print(index,line)\n",
    "    senti_dict[word] = int(din[index][0])\n",
    "words = 'This is not a good training and i appreciate it. But lab machines are worst'.lower().split()\n",
    "print(senti_dict)\n",
    "print(words)\n",
    "print(sum( senti_dict.get(word, 0) for word in words ))"
   ]
  },
  {
   "cell_type": "code",
   "execution_count": 53,
   "metadata": {},
   "outputs": [
    {
     "data": {
      "text/html": [
       "<div>\n",
       "<style scoped>\n",
       "    .dataframe tbody tr th:only-of-type {\n",
       "        vertical-align: middle;\n",
       "    }\n",
       "\n",
       "    .dataframe tbody tr th {\n",
       "        vertical-align: top;\n",
       "    }\n",
       "\n",
       "    .dataframe thead th {\n",
       "        text-align: right;\n",
       "    }\n",
       "</style>\n",
       "<table border=\"1\" class=\"dataframe\">\n",
       "  <thead>\n",
       "    <tr style=\"text-align: right;\">\n",
       "      <th></th>\n",
       "      <th>mpg</th>\n",
       "      <th>cylinders</th>\n",
       "      <th>displacement</th>\n",
       "      <th>weight</th>\n",
       "      <th>acceleration</th>\n",
       "      <th>model year</th>\n",
       "      <th>origin</th>\n",
       "    </tr>\n",
       "  </thead>\n",
       "  <tbody>\n",
       "    <tr>\n",
       "      <td>count</td>\n",
       "      <td>398.000000</td>\n",
       "      <td>398.000000</td>\n",
       "      <td>398.000000</td>\n",
       "      <td>398.000000</td>\n",
       "      <td>398.000000</td>\n",
       "      <td>398.000000</td>\n",
       "      <td>398.000000</td>\n",
       "    </tr>\n",
       "    <tr>\n",
       "      <td>mean</td>\n",
       "      <td>23.514573</td>\n",
       "      <td>5.454774</td>\n",
       "      <td>193.425879</td>\n",
       "      <td>2970.424623</td>\n",
       "      <td>15.568090</td>\n",
       "      <td>76.010050</td>\n",
       "      <td>1.572864</td>\n",
       "    </tr>\n",
       "    <tr>\n",
       "      <td>std</td>\n",
       "      <td>7.815984</td>\n",
       "      <td>1.701004</td>\n",
       "      <td>104.269838</td>\n",
       "      <td>846.841774</td>\n",
       "      <td>2.757689</td>\n",
       "      <td>3.697627</td>\n",
       "      <td>0.802055</td>\n",
       "    </tr>\n",
       "    <tr>\n",
       "      <td>min</td>\n",
       "      <td>9.000000</td>\n",
       "      <td>3.000000</td>\n",
       "      <td>68.000000</td>\n",
       "      <td>1613.000000</td>\n",
       "      <td>8.000000</td>\n",
       "      <td>70.000000</td>\n",
       "      <td>1.000000</td>\n",
       "    </tr>\n",
       "    <tr>\n",
       "      <td>25%</td>\n",
       "      <td>17.500000</td>\n",
       "      <td>4.000000</td>\n",
       "      <td>104.250000</td>\n",
       "      <td>2223.750000</td>\n",
       "      <td>13.825000</td>\n",
       "      <td>73.000000</td>\n",
       "      <td>1.000000</td>\n",
       "    </tr>\n",
       "    <tr>\n",
       "      <td>50%</td>\n",
       "      <td>23.000000</td>\n",
       "      <td>4.000000</td>\n",
       "      <td>148.500000</td>\n",
       "      <td>2803.500000</td>\n",
       "      <td>15.500000</td>\n",
       "      <td>76.000000</td>\n",
       "      <td>1.000000</td>\n",
       "    </tr>\n",
       "    <tr>\n",
       "      <td>75%</td>\n",
       "      <td>29.000000</td>\n",
       "      <td>8.000000</td>\n",
       "      <td>262.000000</td>\n",
       "      <td>3608.000000</td>\n",
       "      <td>17.175000</td>\n",
       "      <td>79.000000</td>\n",
       "      <td>2.000000</td>\n",
       "    </tr>\n",
       "    <tr>\n",
       "      <td>max</td>\n",
       "      <td>46.600000</td>\n",
       "      <td>8.000000</td>\n",
       "      <td>455.000000</td>\n",
       "      <td>5140.000000</td>\n",
       "      <td>24.800000</td>\n",
       "      <td>82.000000</td>\n",
       "      <td>3.000000</td>\n",
       "    </tr>\n",
       "  </tbody>\n",
       "</table>\n",
       "</div>"
      ],
      "text/plain": [
       "              mpg   cylinders  displacement       weight  acceleration  \\\n",
       "count  398.000000  398.000000    398.000000   398.000000    398.000000   \n",
       "mean    23.514573    5.454774    193.425879  2970.424623     15.568090   \n",
       "std      7.815984    1.701004    104.269838   846.841774      2.757689   \n",
       "min      9.000000    3.000000     68.000000  1613.000000      8.000000   \n",
       "25%     17.500000    4.000000    104.250000  2223.750000     13.825000   \n",
       "50%     23.000000    4.000000    148.500000  2803.500000     15.500000   \n",
       "75%     29.000000    8.000000    262.000000  3608.000000     17.175000   \n",
       "max     46.600000    8.000000    455.000000  5140.000000     24.800000   \n",
       "\n",
       "       model year      origin  \n",
       "count  398.000000  398.000000  \n",
       "mean    76.010050    1.572864  \n",
       "std      3.697627    0.802055  \n",
       "min     70.000000    1.000000  \n",
       "25%     73.000000    1.000000  \n",
       "50%     76.000000    1.000000  \n",
       "75%     79.000000    2.000000  \n",
       "max     82.000000    3.000000  "
      ]
     },
     "execution_count": 53,
     "metadata": {},
     "output_type": "execute_result"
    }
   ],
   "source": [
    "#Machine Learning\n",
    "#Univariate Regression\n",
    "import pandas as pd\n",
    "import matplotlib.pyplot as plt\n",
    "import numpy as np\n",
    "%matplotlib inline\n",
    "din=pd.read_csv(r'C:\\Users\\Niketa Mittal\\Downloads\\auto-mpg.csv')\n",
    "din.head()\n",
    "din.describe()"
   ]
  },
  {
   "cell_type": "code",
   "execution_count": 30,
   "metadata": {},
   "outputs": [
    {
     "data": {
      "text/html": [
       "<div>\n",
       "<style scoped>\n",
       "    .dataframe tbody tr th:only-of-type {\n",
       "        vertical-align: middle;\n",
       "    }\n",
       "\n",
       "    .dataframe tbody tr th {\n",
       "        vertical-align: top;\n",
       "    }\n",
       "\n",
       "    .dataframe thead th {\n",
       "        text-align: right;\n",
       "    }\n",
       "</style>\n",
       "<table border=\"1\" class=\"dataframe\">\n",
       "  <thead>\n",
       "    <tr style=\"text-align: right;\">\n",
       "      <th></th>\n",
       "      <th>mpg</th>\n",
       "      <th>acceleration</th>\n",
       "    </tr>\n",
       "  </thead>\n",
       "  <tbody>\n",
       "    <tr>\n",
       "      <td>0</td>\n",
       "      <td>18.0</td>\n",
       "      <td>12.0</td>\n",
       "    </tr>\n",
       "    <tr>\n",
       "      <td>1</td>\n",
       "      <td>15.0</td>\n",
       "      <td>11.5</td>\n",
       "    </tr>\n",
       "    <tr>\n",
       "      <td>2</td>\n",
       "      <td>18.0</td>\n",
       "      <td>11.0</td>\n",
       "    </tr>\n",
       "    <tr>\n",
       "      <td>3</td>\n",
       "      <td>16.0</td>\n",
       "      <td>12.0</td>\n",
       "    </tr>\n",
       "    <tr>\n",
       "      <td>4</td>\n",
       "      <td>17.0</td>\n",
       "      <td>10.5</td>\n",
       "    </tr>\n",
       "  </tbody>\n",
       "</table>\n",
       "</div>"
      ],
      "text/plain": [
       "    mpg  acceleration\n",
       "0  18.0          12.0\n",
       "1  15.0          11.5\n",
       "2  18.0          11.0\n",
       "3  16.0          12.0\n",
       "4  17.0          10.5"
      ]
     },
     "execution_count": 30,
     "metadata": {},
     "output_type": "execute_result"
    }
   ],
   "source": [
    "from sklearn import linear_model\n",
    "model=pd.DataFrame(din, columns=['mpg','acceleration'])\n",
    "model.head()"
   ]
  },
  {
   "cell_type": "code",
   "execution_count": 69,
   "metadata": {},
   "outputs": [
    {
     "data": {
      "text/plain": [
       "count    378.000000\n",
       "mean      15.541534\n",
       "std        2.760126\n",
       "min        8.000000\n",
       "25%       13.700000\n",
       "50%       15.500000\n",
       "75%       17.175000\n",
       "max       24.800000\n",
       "Name: acceleration, dtype: float64"
      ]
     },
     "execution_count": 69,
     "metadata": {},
     "output_type": "execute_result"
    }
   ],
   "source": [
    "#split into Training/test data\n",
    "X_train=model.acceleration[:-20:]\n",
    "X_train.describe()"
   ]
  },
  {
   "cell_type": "code",
   "execution_count": 99,
   "metadata": {
    "scrolled": true
   },
   "outputs": [
    {
     "data": {
      "text/plain": [
       "count    20.000000\n",
       "mean     16.070000\n",
       "std       2.731127\n",
       "min      11.600000\n",
       "25%      14.500000\n",
       "50%      15.650000\n",
       "75%      17.075000\n",
       "max      24.600000\n",
       "Name: acceleration, dtype: float64"
      ]
     },
     "execution_count": 99,
     "metadata": {},
     "output_type": "execute_result"
    }
   ],
   "source": [
    "X_test=model.acceleration[-20:]\n",
    "X_test.describe()"
   ]
  },
  {
   "cell_type": "code",
   "execution_count": 65,
   "metadata": {},
   "outputs": [
    {
     "data": {
      "text/plain": [
       "count    378.00000\n",
       "mean      23.02328\n",
       "std        7.61155\n",
       "min        9.00000\n",
       "25%       17.00000\n",
       "50%       22.00000\n",
       "75%       28.00000\n",
       "max       46.60000\n",
       "Name: mpg, dtype: float64"
      ]
     },
     "execution_count": 65,
     "metadata": {},
     "output_type": "execute_result"
    }
   ],
   "source": [
    "Y_train=model.mpg[:-20]\n",
    "Y_train.describe()"
   ]
  },
  {
   "cell_type": "code",
   "execution_count": 100,
   "metadata": {},
   "outputs": [
    {
     "data": {
      "text/plain": [
       "count    20.000000\n",
       "mean     32.800000\n",
       "std       5.596992\n",
       "min      22.000000\n",
       "25%      27.750000\n",
       "50%      33.000000\n",
       "75%      36.500000\n",
       "max      44.000000\n",
       "Name: mpg, dtype: float64"
      ]
     },
     "execution_count": 100,
     "metadata": {},
     "output_type": "execute_result"
    }
   ],
   "source": [
    "Y_test=model.mpg[-20:]\n",
    "Y_test.describe()"
   ]
  },
  {
   "cell_type": "code",
   "execution_count": 67,
   "metadata": {},
   "outputs": [
    {
     "data": {
      "text/plain": [
       "LinearRegression(copy_X=True, fit_intercept=True, n_jobs=None, normalize=False)"
      ]
     },
     "execution_count": 67,
     "metadata": {},
     "output_type": "execute_result"
    }
   ],
   "source": [
    "#Apply Linear Regression\n",
    "lreg=linear_model.LinearRegression()\n",
    "X_train=X_train.values.reshape(len(X_train),1)\n",
    "Y_train=Y_train.values.reshape(len(Y_train),1)\n",
    "#Train model using training sets\n",
    "lreg.fit(X_train,Y_train)"
   ]
  },
  {
   "cell_type": "code",
   "execution_count": 71,
   "metadata": {},
   "outputs": [
    {
     "name": "stdout",
     "output_type": "stream",
     "text": [
      "Coeff:  [[1.19037533]]\n",
      "Intercept:  [4.52302129]\n"
     ]
    }
   ],
   "source": [
    "#Display Coefficients\n",
    "print('Coeff: ',lreg.coef_)\n",
    "print('Intercept: ',lreg.intercept_)"
   ]
  },
  {
   "cell_type": "code",
   "execution_count": 101,
   "metadata": {},
   "outputs": [],
   "source": [
    "#Predict\n",
    "X_test=X_test.values.reshape(len(X_test),1)\n",
    "Y_test=Y_test.values.reshape(len(Y_test),1)\n",
    "X_pred=lreg.predict(X_test)"
   ]
  },
  {
   "cell_type": "code",
   "execution_count": 102,
   "metadata": {},
   "outputs": [
    {
     "data": {
      "text/html": [
       "<div>\n",
       "<style scoped>\n",
       "    .dataframe tbody tr th:only-of-type {\n",
       "        vertical-align: middle;\n",
       "    }\n",
       "\n",
       "    .dataframe tbody tr th {\n",
       "        vertical-align: top;\n",
       "    }\n",
       "\n",
       "    .dataframe thead th {\n",
       "        text-align: right;\n",
       "    }\n",
       "</style>\n",
       "<table border=\"1\" class=\"dataframe\">\n",
       "  <thead>\n",
       "    <tr style=\"text-align: right;\">\n",
       "      <th></th>\n",
       "      <th>Actual</th>\n",
       "      <th>Predicted</th>\n",
       "    </tr>\n",
       "  </thead>\n",
       "  <tbody>\n",
       "    <tr>\n",
       "      <td>0</td>\n",
       "      <td>14.7</td>\n",
       "      <td>22.021539</td>\n",
       "    </tr>\n",
       "    <tr>\n",
       "      <td>1</td>\n",
       "      <td>17.3</td>\n",
       "      <td>25.116515</td>\n",
       "    </tr>\n",
       "    <tr>\n",
       "      <td>2</td>\n",
       "      <td>14.5</td>\n",
       "      <td>21.783464</td>\n",
       "    </tr>\n",
       "    <tr>\n",
       "      <td>3</td>\n",
       "      <td>14.5</td>\n",
       "      <td>21.783464</td>\n",
       "    </tr>\n",
       "    <tr>\n",
       "      <td>4</td>\n",
       "      <td>16.9</td>\n",
       "      <td>24.640364</td>\n",
       "    </tr>\n",
       "    <tr>\n",
       "      <td>5</td>\n",
       "      <td>15.0</td>\n",
       "      <td>22.378651</td>\n",
       "    </tr>\n",
       "    <tr>\n",
       "      <td>6</td>\n",
       "      <td>15.7</td>\n",
       "      <td>23.211914</td>\n",
       "    </tr>\n",
       "    <tr>\n",
       "      <td>7</td>\n",
       "      <td>16.2</td>\n",
       "      <td>23.807102</td>\n",
       "    </tr>\n",
       "    <tr>\n",
       "      <td>8</td>\n",
       "      <td>16.4</td>\n",
       "      <td>24.045177</td>\n",
       "    </tr>\n",
       "    <tr>\n",
       "      <td>9</td>\n",
       "      <td>17.0</td>\n",
       "      <td>24.759402</td>\n",
       "    </tr>\n",
       "    <tr>\n",
       "      <td>10</td>\n",
       "      <td>14.5</td>\n",
       "      <td>21.783464</td>\n",
       "    </tr>\n",
       "    <tr>\n",
       "      <td>11</td>\n",
       "      <td>14.7</td>\n",
       "      <td>22.021539</td>\n",
       "    </tr>\n",
       "    <tr>\n",
       "      <td>12</td>\n",
       "      <td>13.9</td>\n",
       "      <td>21.069238</td>\n",
       "    </tr>\n",
       "    <tr>\n",
       "      <td>13</td>\n",
       "      <td>13.0</td>\n",
       "      <td>19.997901</td>\n",
       "    </tr>\n",
       "    <tr>\n",
       "      <td>14</td>\n",
       "      <td>17.3</td>\n",
       "      <td>25.116515</td>\n",
       "    </tr>\n",
       "    <tr>\n",
       "      <td>15</td>\n",
       "      <td>15.6</td>\n",
       "      <td>23.092876</td>\n",
       "    </tr>\n",
       "    <tr>\n",
       "      <td>16</td>\n",
       "      <td>24.6</td>\n",
       "      <td>33.806254</td>\n",
       "    </tr>\n",
       "    <tr>\n",
       "      <td>17</td>\n",
       "      <td>11.6</td>\n",
       "      <td>18.331375</td>\n",
       "    </tr>\n",
       "    <tr>\n",
       "      <td>18</td>\n",
       "      <td>18.6</td>\n",
       "      <td>26.664002</td>\n",
       "    </tr>\n",
       "    <tr>\n",
       "      <td>19</td>\n",
       "      <td>19.4</td>\n",
       "      <td>27.616303</td>\n",
       "    </tr>\n",
       "  </tbody>\n",
       "</table>\n",
       "</div>"
      ],
      "text/plain": [
       "    Actual  Predicted\n",
       "0     14.7  22.021539\n",
       "1     17.3  25.116515\n",
       "2     14.5  21.783464\n",
       "3     14.5  21.783464\n",
       "4     16.9  24.640364\n",
       "5     15.0  22.378651\n",
       "6     15.7  23.211914\n",
       "7     16.2  23.807102\n",
       "8     16.4  24.045177\n",
       "9     17.0  24.759402\n",
       "10    14.5  21.783464\n",
       "11    14.7  22.021539\n",
       "12    13.9  21.069238\n",
       "13    13.0  19.997901\n",
       "14    17.3  25.116515\n",
       "15    15.6  23.092876\n",
       "16    24.6  33.806254\n",
       "17    11.6  18.331375\n",
       "18    18.6  26.664002\n",
       "19    19.4  27.616303"
      ]
     },
     "execution_count": 102,
     "metadata": {},
     "output_type": "execute_result"
    }
   ],
   "source": [
    "df = pd.DataFrame({'Actual': X_test.flatten(), 'Predicted': X_pred.flatten()})\n",
    "df"
   ]
  },
  {
   "cell_type": "code",
   "execution_count": 103,
   "metadata": {},
   "outputs": [
    {
     "name": "stdout",
     "output_type": "stream",
     "text": [
      "Mean Square Error:  114.03120619605713\n"
     ]
    }
   ],
   "source": [
    "#Accuracy Check\n",
    "msr=np.mean((X_pred-Y_test)**2)\n",
    "print('Mean Square Error: ',msr)"
   ]
  },
  {
   "cell_type": "code",
   "execution_count": 104,
   "metadata": {},
   "outputs": [
    {
     "name": "stdout",
     "output_type": "stream",
     "text": [
      "Variance: -2.831693756587941\n"
     ]
    }
   ],
   "source": [
    "vari=lreg.score(X_test,Y_test)\n",
    "print('Variance:', vari)"
   ]
  },
  {
   "cell_type": "code",
   "execution_count": 106,
   "metadata": {},
   "outputs": [
    {
     "data": {
      "text/plain": [
       "[<matplotlib.lines.Line2D at 0x1fce9d3b708>]"
      ]
     },
     "execution_count": 106,
     "metadata": {},
     "output_type": "execute_result"
    },
    {
     "data": {
      "image/png": "[encoded data removed]",
      "text/plain": [
       "<Figure size 432x288 with 1 Axes>"
      ]
     },
     "metadata": {
      "needs_background": "light"
     },
     "output_type": "display_data"
    }
   ],
   "source": [
    "#Plotting\n",
    "plt.scatter(X_test,Y_test,color='blue')\n",
    "plt.plot(X_test,X_pred,color='brown')"
   ]
  },
  {
   "cell_type": "code",
   "execution_count": 134,
   "metadata": {},
   "outputs": [
    {
     "data": {
      "text/html": [
       "<div>\n",
       "<style scoped>\n",
       "    .dataframe tbody tr th:only-of-type {\n",
       "        vertical-align: middle;\n",
       "    }\n",
       "\n",
       "    .dataframe tbody tr th {\n",
       "        vertical-align: top;\n",
       "    }\n",
       "\n",
       "    .dataframe thead th {\n",
       "        text-align: right;\n",
       "    }\n",
       "</style>\n",
       "<table border=\"1\" class=\"dataframe\">\n",
       "  <thead>\n",
       "    <tr style=\"text-align: right;\">\n",
       "      <th></th>\n",
       "      <th>mpg</th>\n",
       "      <th>cylinders</th>\n",
       "      <th>displacement</th>\n",
       "      <th>horsepower</th>\n",
       "      <th>weight</th>\n",
       "      <th>acceleration</th>\n",
       "      <th>model year</th>\n",
       "      <th>origin</th>\n",
       "      <th>car name</th>\n",
       "    </tr>\n",
       "  </thead>\n",
       "  <tbody>\n",
       "    <tr>\n",
       "      <td>0</td>\n",
       "      <td>18.0</td>\n",
       "      <td>8</td>\n",
       "      <td>307.0</td>\n",
       "      <td>130</td>\n",
       "      <td>3504</td>\n",
       "      <td>12.0</td>\n",
       "      <td>70</td>\n",
       "      <td>1</td>\n",
       "      <td>chevrolet chevelle malibu</td>\n",
       "    </tr>\n",
       "    <tr>\n",
       "      <td>1</td>\n",
       "      <td>15.0</td>\n",
       "      <td>8</td>\n",
       "      <td>350.0</td>\n",
       "      <td>165</td>\n",
       "      <td>3693</td>\n",
       "      <td>11.5</td>\n",
       "      <td>70</td>\n",
       "      <td>1</td>\n",
       "      <td>buick skylark 320</td>\n",
       "    </tr>\n",
       "    <tr>\n",
       "      <td>2</td>\n",
       "      <td>18.0</td>\n",
       "      <td>8</td>\n",
       "      <td>318.0</td>\n",
       "      <td>150</td>\n",
       "      <td>3436</td>\n",
       "      <td>11.0</td>\n",
       "      <td>70</td>\n",
       "      <td>1</td>\n",
       "      <td>plymouth satellite</td>\n",
       "    </tr>\n",
       "    <tr>\n",
       "      <td>3</td>\n",
       "      <td>16.0</td>\n",
       "      <td>8</td>\n",
       "      <td>304.0</td>\n",
       "      <td>150</td>\n",
       "      <td>3433</td>\n",
       "      <td>12.0</td>\n",
       "      <td>70</td>\n",
       "      <td>1</td>\n",
       "      <td>amc rebel sst</td>\n",
       "    </tr>\n",
       "    <tr>\n",
       "      <td>4</td>\n",
       "      <td>17.0</td>\n",
       "      <td>8</td>\n",
       "      <td>302.0</td>\n",
       "      <td>140</td>\n",
       "      <td>3449</td>\n",
       "      <td>10.5</td>\n",
       "      <td>70</td>\n",
       "      <td>1</td>\n",
       "      <td>ford torino</td>\n",
       "    </tr>\n",
       "  </tbody>\n",
       "</table>\n",
       "</div>"
      ],
      "text/plain": [
       "    mpg  cylinders  displacement horsepower  weight  acceleration  model year  \\\n",
       "0  18.0          8         307.0        130    3504          12.0          70   \n",
       "1  15.0          8         350.0        165    3693          11.5          70   \n",
       "2  18.0          8         318.0        150    3436          11.0          70   \n",
       "3  16.0          8         304.0        150    3433          12.0          70   \n",
       "4  17.0          8         302.0        140    3449          10.5          70   \n",
       "\n",
       "   origin                   car name  \n",
       "0       1  chevrolet chevelle malibu  \n",
       "1       1          buick skylark 320  \n",
       "2       1         plymouth satellite  \n",
       "3       1              amc rebel sst  \n",
       "4       1                ford torino  "
      ]
     },
     "execution_count": 134,
     "metadata": {},
     "output_type": "execute_result"
    }
   ],
   "source": [
    "#Multivariate Regression\n",
    "import pandas as pd\n",
    "import numpy as np\n",
    "import matplotlib.pyplot as plt\n",
    "%matplotlib inline\n",
    "din=pd.read_csv(r'C:\\Users\\Niketa Mittal\\Downloads\\auto-mpg.csv')\n",
    "din.head()"
   ]
  },
  {
   "cell_type": "code",
   "execution_count": 109,
   "metadata": {},
   "outputs": [
    {
     "data": {
      "text/html": [
       "<div>\n",
       "<style scoped>\n",
       "    .dataframe tbody tr th:only-of-type {\n",
       "        vertical-align: middle;\n",
       "    }\n",
       "\n",
       "    .dataframe tbody tr th {\n",
       "        vertical-align: top;\n",
       "    }\n",
       "\n",
       "    .dataframe thead th {\n",
       "        text-align: right;\n",
       "    }\n",
       "</style>\n",
       "<table border=\"1\" class=\"dataframe\">\n",
       "  <thead>\n",
       "    <tr style=\"text-align: right;\">\n",
       "      <th></th>\n",
       "      <th>mpg</th>\n",
       "      <th>acceleration</th>\n",
       "    </tr>\n",
       "  </thead>\n",
       "  <tbody>\n",
       "    <tr>\n",
       "      <td>0</td>\n",
       "      <td>18.0</td>\n",
       "      <td>12.0</td>\n",
       "    </tr>\n",
       "    <tr>\n",
       "      <td>1</td>\n",
       "      <td>15.0</td>\n",
       "      <td>11.5</td>\n",
       "    </tr>\n",
       "    <tr>\n",
       "      <td>2</td>\n",
       "      <td>18.0</td>\n",
       "      <td>11.0</td>\n",
       "    </tr>\n",
       "    <tr>\n",
       "      <td>3</td>\n",
       "      <td>16.0</td>\n",
       "      <td>12.0</td>\n",
       "    </tr>\n",
       "    <tr>\n",
       "      <td>4</td>\n",
       "      <td>17.0</td>\n",
       "      <td>10.5</td>\n",
       "    </tr>\n",
       "    <tr>\n",
       "      <td>...</td>\n",
       "      <td>...</td>\n",
       "      <td>...</td>\n",
       "    </tr>\n",
       "    <tr>\n",
       "      <td>393</td>\n",
       "      <td>27.0</td>\n",
       "      <td>15.6</td>\n",
       "    </tr>\n",
       "    <tr>\n",
       "      <td>394</td>\n",
       "      <td>44.0</td>\n",
       "      <td>24.6</td>\n",
       "    </tr>\n",
       "    <tr>\n",
       "      <td>395</td>\n",
       "      <td>32.0</td>\n",
       "      <td>11.6</td>\n",
       "    </tr>\n",
       "    <tr>\n",
       "      <td>396</td>\n",
       "      <td>28.0</td>\n",
       "      <td>18.6</td>\n",
       "    </tr>\n",
       "    <tr>\n",
       "      <td>397</td>\n",
       "      <td>31.0</td>\n",
       "      <td>19.4</td>\n",
       "    </tr>\n",
       "  </tbody>\n",
       "</table>\n",
       "<p>398 rows × 2 columns</p>\n",
       "</div>"
      ],
      "text/plain": [
       "      mpg  acceleration\n",
       "0    18.0          12.0\n",
       "1    15.0          11.5\n",
       "2    18.0          11.0\n",
       "3    16.0          12.0\n",
       "4    17.0          10.5\n",
       "..    ...           ...\n",
       "393  27.0          15.6\n",
       "394  44.0          24.6\n",
       "395  32.0          11.6\n",
       "396  28.0          18.6\n",
       "397  31.0          19.4\n",
       "\n",
       "[398 rows x 2 columns]"
      ]
     },
     "execution_count": 109,
     "metadata": {},
     "output_type": "execute_result"
    }
   ],
   "source": [
    "model=pd.DataFrame(din, columns=['mpg','acceleration'])\n",
    "model"
   ]
  },
  {
   "cell_type": "code",
   "execution_count": 119,
   "metadata": {},
   "outputs": [],
   "source": [
    "#Initialize variables\n",
    "learning_rate=0.0001\n",
    "no_of_iter=1000\n",
    "points=model\n",
    "\n",
    "#Compute Error for line given points\n",
    "def error_line(b, m, points):\n",
    "    total_error=0\n",
    "    for i in range(0,len(points)):\n",
    "        x=points[i,2]\n",
    "        y=points[i,1]\n",
    "        total_error +=(y-(m*x +b))**2\n",
    "    return total_error/float(len(points))"
   ]
  },
  {
   "cell_type": "code",
   "execution_count": 120,
   "metadata": {},
   "outputs": [],
   "source": [
    "#Step Gradient Function\n",
    "def step_gradient(b_curr, m_curr, points, learning_rate):\n",
    "    b_grad=0\n",
    "    m_grad=0\n",
    "    n=float(len(points))\n",
    "    for i in range(0,len(points)):\n",
    "        x=points[i,2]\n",
    "        y=points[i,1]\n",
    "        b_grad += -(2/n)*(y-(m_curr*x +b_curr))\n",
    "        m_grad += -(2/n)*x*(y-(m_curr*x +b_curr))\n",
    "    new_b = b_curr-(learning_rate*b_grad)\n",
    "    new_m = m_curr-(learning_rate*m_grad)\n",
    "    return [new_b,new_m]"
   ]
  },
  {
   "cell_type": "code",
   "execution_count": 121,
   "metadata": {},
   "outputs": [],
   "source": [
    "#Gradient Descent\n",
    "def gradient_descent(points, start_b, start_m, learning_rate, no_of_iter):\n",
    "    b=start_b\n",
    "    m=start_m\n",
    "    for i in range(no_of_iter):\n",
    "        b,m = step_gradient(b,m,points,learning_rate)\n",
    "    return [b,m]"
   ]
  },
  {
   "cell_type": "code",
   "execution_count": 122,
   "metadata": {},
   "outputs": [
    {
     "name": "stdout",
     "output_type": "stream",
     "text": [
      "Starting Gradient Descent at b = 0, m = 0, error = 613.8712562814071\n"
     ]
    }
   ],
   "source": [
    "init_b=0\n",
    "init_m=0\n",
    "points=points.reset_index().values\n",
    "print('Starting Gradient Descent at b = {0}, m = {1}, error = {2}'.format(init_b,init_m,error_line(init_b,init_m,points)))"
   ]
  },
  {
   "cell_type": "code",
   "execution_count": 123,
   "metadata": {},
   "outputs": [
    {
     "name": "stdout",
     "output_type": "stream",
     "text": [
      "After 1000 iterations, b = 0.12252253313266287, m=1.4931509862180814, error = 50.8852731718681\n"
     ]
    }
   ],
   "source": [
    "[b,m]=gradient_descent(points,init_b,init_m,learning_rate,no_of_iter)\n",
    "print('After {0} iterations, b = {1}, m={2}, error = {3}'.format(no_of_iter,b,m,error_line(b,m,points)))"
   ]
  },
  {
   "cell_type": "code",
   "execution_count": 129,
   "metadata": {},
   "outputs": [
    {
     "data": {
      "image/png": "[encoded data removed]",
      "text/plain": [
       "<Figure size 432x288 with 1 Axes>"
      ]
     },
     "metadata": {
      "needs_background": "light"
     },
     "output_type": "display_data"
    }
   ],
   "source": [
    "#plotting\n",
    "for i in range(0,len(points)):\n",
    "    x=points[i,2]\n",
    "    y=points[i,1]\n",
    "    plt.scatter(x,y,color='green')\n",
    "    plt.plot(model.acceleration, (1.4931509862180814*model.acceleration +0.12252253313266287), color='blue')"
   ]
  },
  {
   "cell_type": "code",
   "execution_count": 138,
   "metadata": {},
   "outputs": [
    {
     "data": {
      "text/html": [
       "<div>\n",
       "<style scoped>\n",
       "    .dataframe tbody tr th:only-of-type {\n",
       "        vertical-align: middle;\n",
       "    }\n",
       "\n",
       "    .dataframe tbody tr th {\n",
       "        vertical-align: top;\n",
       "    }\n",
       "\n",
       "    .dataframe thead th {\n",
       "        text-align: right;\n",
       "    }\n",
       "</style>\n",
       "<table border=\"1\" class=\"dataframe\">\n",
       "  <thead>\n",
       "    <tr style=\"text-align: right;\">\n",
       "      <th></th>\n",
       "      <th>Age</th>\n",
       "      <th>Op_year</th>\n",
       "      <th>axil_nodes</th>\n",
       "      <th>surv_status</th>\n",
       "    </tr>\n",
       "  </thead>\n",
       "  <tbody>\n",
       "    <tr>\n",
       "      <td>0</td>\n",
       "      <td>30</td>\n",
       "      <td>64</td>\n",
       "      <td>1</td>\n",
       "      <td>1</td>\n",
       "    </tr>\n",
       "    <tr>\n",
       "      <td>1</td>\n",
       "      <td>30</td>\n",
       "      <td>62</td>\n",
       "      <td>3</td>\n",
       "      <td>1</td>\n",
       "    </tr>\n",
       "    <tr>\n",
       "      <td>2</td>\n",
       "      <td>30</td>\n",
       "      <td>65</td>\n",
       "      <td>0</td>\n",
       "      <td>1</td>\n",
       "    </tr>\n",
       "    <tr>\n",
       "      <td>3</td>\n",
       "      <td>31</td>\n",
       "      <td>59</td>\n",
       "      <td>2</td>\n",
       "      <td>1</td>\n",
       "    </tr>\n",
       "    <tr>\n",
       "      <td>4</td>\n",
       "      <td>31</td>\n",
       "      <td>65</td>\n",
       "      <td>4</td>\n",
       "      <td>1</td>\n",
       "    </tr>\n",
       "  </tbody>\n",
       "</table>\n",
       "</div>"
      ],
      "text/plain": [
       "   Age  Op_year  axil_nodes  surv_status\n",
       "0   30       64           1            1\n",
       "1   30       62           3            1\n",
       "2   30       65           0            1\n",
       "3   31       59           2            1\n",
       "4   31       65           4            1"
      ]
     },
     "execution_count": 138,
     "metadata": {},
     "output_type": "execute_result"
    }
   ],
   "source": [
    "#Machine Learning KNN\n",
    "import pandas as pd\n",
    "import numpy as np\n",
    "import sklearn\n",
    "from sklearn.model_selection import train_test_split\n",
    "from sklearn import neighbors, preprocessing\n",
    "din=pd.read_csv(r'C:\\Users\\Niketa Mittal\\Downloads\\haberman.csv')\n",
    "din.head()"
   ]
  },
  {
   "cell_type": "code",
   "execution_count": 144,
   "metadata": {},
   "outputs": [
    {
     "name": "stderr",
     "output_type": "stream",
     "text": [
      "C:\\Users\\Niketa Mittal\\Anaconda3\\lib\\site-packages\\ipykernel_launcher.py:5: DataConversionWarning: A column-vector y was passed when a 1d array was expected. Please change the shape of y to (n_samples, ), for example using ravel().\n",
      "  \"\"\"\n"
     ]
    },
    {
     "data": {
      "text/plain": [
       "KNeighborsClassifier(algorithm='auto', leaf_size=30, metric='minkowski',\n",
       "                     metric_params=None, n_jobs=None, n_neighbors=5, p=2,\n",
       "                     weights='uniform')"
      ]
     },
     "execution_count": 144,
     "metadata": {},
     "output_type": "execute_result"
    }
   ],
   "source": [
    "X=np.array(din['Age'])\n",
    "Y=np.array(din['surv_status'])\n",
    "x_train, x_test, y_train, y_test=train_test_split(X,Y,test_size=0.2)\n",
    "knn=neighbors.KNeighborsClassifier()\n",
    "knn.fit(x_train.reshape(len(x_train),1),y_train.reshape(len(y_train),1))"
   ]
  },
  {
   "cell_type": "code",
   "execution_count": 152,
   "metadata": {},
   "outputs": [
    {
     "data": {
      "text/html": [
       "<div>\n",
       "<style scoped>\n",
       "    .dataframe tbody tr th:only-of-type {\n",
       "        vertical-align: middle;\n",
       "    }\n",
       "\n",
       "    .dataframe tbody tr th {\n",
       "        vertical-align: top;\n",
       "    }\n",
       "\n",
       "    .dataframe thead th {\n",
       "        text-align: right;\n",
       "    }\n",
       "</style>\n",
       "<table border=\"1\" class=\"dataframe\">\n",
       "  <thead>\n",
       "    <tr style=\"text-align: right;\">\n",
       "      <th></th>\n",
       "      <th>Actual</th>\n",
       "      <th>Predicted</th>\n",
       "    </tr>\n",
       "  </thead>\n",
       "  <tbody>\n",
       "    <tr>\n",
       "      <td>0</td>\n",
       "      <td>34</td>\n",
       "      <td>1</td>\n",
       "    </tr>\n",
       "    <tr>\n",
       "      <td>1</td>\n",
       "      <td>30</td>\n",
       "      <td>1</td>\n",
       "    </tr>\n",
       "    <tr>\n",
       "      <td>2</td>\n",
       "      <td>54</td>\n",
       "      <td>1</td>\n",
       "    </tr>\n",
       "    <tr>\n",
       "      <td>3</td>\n",
       "      <td>45</td>\n",
       "      <td>2</td>\n",
       "    </tr>\n",
       "    <tr>\n",
       "      <td>4</td>\n",
       "      <td>39</td>\n",
       "      <td>1</td>\n",
       "    </tr>\n",
       "    <tr>\n",
       "      <td>...</td>\n",
       "      <td>...</td>\n",
       "      <td>...</td>\n",
       "    </tr>\n",
       "    <tr>\n",
       "      <td>57</td>\n",
       "      <td>52</td>\n",
       "      <td>1</td>\n",
       "    </tr>\n",
       "    <tr>\n",
       "      <td>58</td>\n",
       "      <td>33</td>\n",
       "      <td>1</td>\n",
       "    </tr>\n",
       "    <tr>\n",
       "      <td>59</td>\n",
       "      <td>58</td>\n",
       "      <td>1</td>\n",
       "    </tr>\n",
       "    <tr>\n",
       "      <td>60</td>\n",
       "      <td>45</td>\n",
       "      <td>2</td>\n",
       "    </tr>\n",
       "    <tr>\n",
       "      <td>61</td>\n",
       "      <td>38</td>\n",
       "      <td>1</td>\n",
       "    </tr>\n",
       "  </tbody>\n",
       "</table>\n",
       "<p>62 rows × 2 columns</p>\n",
       "</div>"
      ],
      "text/plain": [
       "    Actual  Predicted\n",
       "0       34          1\n",
       "1       30          1\n",
       "2       54          1\n",
       "3       45          2\n",
       "4       39          1\n",
       "..     ...        ...\n",
       "57      52          1\n",
       "58      33          1\n",
       "59      58          1\n",
       "60      45          2\n",
       "61      38          1\n",
       "\n",
       "[62 rows x 2 columns]"
      ]
     },
     "execution_count": 152,
     "metadata": {},
     "output_type": "execute_result"
    }
   ],
   "source": [
    "x_test=x_test.reshape(len(x_test),1)\n",
    "y_test=y_test.reshape(len(y_test),1)\n",
    "x_predict=knn.predict(x_test)\n",
    "df = pd.DataFrame({'Actual': x_test.flatten(), 'Predicted': x_predict.flatten()})\n",
    "df"
   ]
  },
  {
   "cell_type": "code",
   "execution_count": 153,
   "metadata": {},
   "outputs": [
    {
     "name": "stdout",
     "output_type": "stream",
     "text": [
      "0.5483870967741935\n"
     ]
    }
   ],
   "source": [
    "accuracy=knn.score(x_test, y_test)\n",
    "print(accuracy)"
   ]
  }
 ],
 "metadata": {
  "kernelspec": {
   "display_name": "Python 3",
   "language": "python",
   "name": "python3"
  },
  "language_info": {
   "codemirror_mode": {
    "name": "ipython",
    "version": 3
   },
   "file_extension": ".py",
   "mimetype": "text/x-python",
   "name": "python",
   "nbconvert_exporter": "python",
   "pygments_lexer": "ipython3",
   "version": "3.7.4"
  }
 },
 "nbformat": 4,
 "nbformat_minor": 2
}
